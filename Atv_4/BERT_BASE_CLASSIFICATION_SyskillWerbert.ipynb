{
 "cells": [
  {
   "cell_type": "markdown",
   "metadata": {},
   "source": [
    "# Importar as bibliotecas necessárias"
   ]
  },
  {
   "cell_type": "code",
   "execution_count": 1,
   "metadata": {},
   "outputs": [
    {
     "name": "stderr",
     "output_type": "stream",
     "text": [
      "2025-02-04 23:06:04.355132: E external/local_xla/xla/stream_executor/cuda/cuda_fft.cc:477] Unable to register cuFFT factory: Attempting to register factory for plugin cuFFT when one has already been registered\n",
      "WARNING: All log messages before absl::InitializeLog() is called are written to STDERR\n",
      "E0000 00:00:1738721164.366894   10994 cuda_dnn.cc:8310] Unable to register cuDNN factory: Attempting to register factory for plugin cuDNN when one has already been registered\n",
      "E0000 00:00:1738721164.370542   10994 cuda_blas.cc:1418] Unable to register cuBLAS factory: Attempting to register factory for plugin cuBLAS when one has already been registered\n",
      "2025-02-04 23:06:04.383828: I tensorflow/core/platform/cpu_feature_guard.cc:210] This TensorFlow binary is optimized to use available CPU instructions in performance-critical operations.\n",
      "To enable the following instructions: AVX2 FMA, in other operations, rebuild TensorFlow with the appropriate compiler flags.\n"
     ]
    }
   ],
   "source": [
    "import torch\n",
    "import numpy as np\n",
    "import pandas as pd\n",
    "import matplotlib.pyplot as plt\n",
    "import seaborn as sns\n",
    "\n",
    "from datasets import Dataset, DatasetDict\n",
    "from transformers import BertTokenizer, BertForSequenceClassification, Trainer, TrainingArguments\n",
    "from sklearn.metrics import accuracy_score, f1_score, confusion_matrix, classification_report\n"
   ]
  },
  {
   "cell_type": "markdown",
   "metadata": {},
   "source": [
    "# Carregar base de dados"
   ]
  },
  {
   "cell_type": "code",
   "execution_count": 2,
   "metadata": {},
   "outputs": [
    {
     "name": "stdout",
     "output_type": "stream",
     "text": [
      "  file_name                                               text  class\n",
      "0        53    LaFond, Lois        One World              (...  Bands\n",
      "1        28    Houston, Penelope   Houston, Penelope       ...  Bands\n",
      "2        57    Bernard, Mary Ellen   Bernard, Mary Ellen   ...  Bands\n",
      "3        25    Deth Specula   Deth Specula         Careenin...  Bands\n",
      "4        15    Hungry Ghost   Hungry Ghost         Aboral  ...  Bands\n"
     ]
    }
   ],
   "source": [
    "# Carregar o CSV\n",
    "df = pd.read_csv(\"/home/hurias/Documentos/Disciplina_NLP/Atv_4/data/SyskillWebert.csv\")  # Substituir pelo caminho correto\n",
    "\n",
    "# Exibir as primeiras linhas para verificar o formato\n",
    "print(df.head())"
   ]
  },
  {
   "cell_type": "code",
   "execution_count": 3,
   "metadata": {},
   "outputs": [],
   "source": [
    "df = df.dropna(subset=[\"text\"])  # Remove linhas onde 'text' é NaN\n",
    "df[\"text\"] = df[\"text\"].astype(str)  # Converte para string (caso tenha números ou objetos)\n"
   ]
  },
  {
   "cell_type": "code",
   "execution_count": 4,
   "metadata": {},
   "outputs": [
    {
     "name": "stdout",
     "output_type": "stream",
     "text": [
      "text\n",
      "<class 'str'>    333\n",
      "Name: count, dtype: int64\n",
      "0      LaFond, Lois        One World              (...\n",
      "1      Houston, Penelope   Houston, Penelope       ...\n",
      "2      Bernard, Mary Ellen   Bernard, Mary Ellen   ...\n",
      "3      Deth Specula   Deth Specula         Careenin...\n",
      "4      Hungry Ghost   Hungry Ghost         Aboral  ...\n",
      "Name: text, dtype: object\n"
     ]
    }
   ],
   "source": [
    "print(df[\"text\"].apply(type).value_counts())  # Verifica os tipos de dados na coluna\n",
    "print(df[\"text\"].head())  # Confere os primeiros valores da coluna\n"
   ]
  },
  {
   "cell_type": "markdown",
   "metadata": {},
   "source": [
    "# Dividir a base de dados"
   ]
  },
  {
   "cell_type": "code",
   "execution_count": 5,
   "metadata": {},
   "outputs": [
    {
     "name": "stdout",
     "output_type": "stream",
     "text": [
      "train: 233 exemplos\n",
      "validation: 33 exemplos\n",
      "test: 67 exemplos\n"
     ]
    }
   ],
   "source": [
    "# Garantir que o dataframe tenha as colunas esperadas\n",
    "df = df.rename(columns={\"text\": \"text\", \"class\": \"label\"})  # Ajuste conforme necessário\n",
    "\n",
    "# Converter para Dataset do Hugging Face\n",
    "dataset = Dataset.from_pandas(df)\n",
    "\n",
    "# Divisão entre treino (70%), validação (10%) e teste (20%)\n",
    "train_test_split = dataset.train_test_split(test_size=0.3)\n",
    "test_valid_split = train_test_split[\"test\"].train_test_split(test_size=2/3)\n",
    "\n",
    "dataset_final = DatasetDict({\n",
    "    \"train\": train_test_split[\"train\"],\n",
    "    \"validation\": test_valid_split[\"train\"],\n",
    "    \"test\": test_valid_split[\"test\"]\n",
    "})\n",
    "\n",
    "# Verificar o número de exemplos em cada conjunto\n",
    "for split in dataset_final:\n",
    "    print(f\"{split}: {len(dataset_final[split])} exemplos\")\n",
    "\n"
   ]
  },
  {
   "cell_type": "code",
   "execution_count": 6,
   "metadata": {},
   "outputs": [
    {
     "name": "stdout",
     "output_type": "stream",
     "text": [
      "\n",
      "🔹 Exemplos do conjunto TRAIN:\n",
      "\n",
      "Texto:     Boston University School of Public Health    W elcome to       B oston U niversity  S chool of P ublic H ealth        BUSPH Web Search Engine    (If you're looking for something in particular, and you just don't have time to wade...)  Home Page Links       1994/95 Bulletin   The School of Public Health Bulletin provides information about the school's departments, courses, calendar, history, and more.       Public Health Forums    Current schedule of Public Health Forums at BUSPH.  (June 14, 1995)       Departments & Organizations at BUSPH   A new venue for BUSPH departments and affiliated organizations. So far, Epidemiology & Biostatistics , Join Together , and the Health Law Department . (May 7, 1995)        Current Research at BUSPH   A sampling of current research papers from BUSPH faculty. ( prototype stage ).       BU Medical School Server   Sponsored by the library and maintained by resident students, this server provides information about library services, staff, student announcements, job opportunities, and medical specialties, as well as links to other groups at BUSM.       Boston University WWW Server   The official BU web server offers links to local and external information services, other school catalogs, and a \"what's new\" page for the BU Web.       Boston University Online Directory   For off-campus access, there is also a gopherable directory .      Questions? Comments?   Please fill out our comment form .         Boston University is seeking an individual to serve as Chair of the Department of Health Services in the School of Public Health, and as the first Director of the Center for Health Care Research in the Schools of Medicine and Public Health.   Here's more information . (6/9/95)  The BUSPH Web Project is courtesy of the Department of Environmental Health.       A bout...    BUSPH Home Page and Bulletin prepared for the World Wide Web by Chris Paulu ( cpaulu@bu.edu ), Department of Environmental Health .  \n",
      "Label: BioMedical\n",
      "\n",
      "Texto:      The World-Wide Web Virtual Library: Biosciences - Nursing            Nursing ( Biosciences )   Information categorised by subject. See also other subjects.  If you know of on-line information that is not included in these lists, please e-mail Dee McGonigle.   See also :   The WWW VL: Biosciences   Searchable Index for the WWW VL Biosciences    Nursing Resources....    NIGHTINGALE   EINet Galaxy Nursing Sites   E.T.Net at The National Library of Medicine   NURSE   AJN Network Homepage   Nurse Midwifery   Homebirth/Midwifery  Nursing Services  University of Arizona NurseNet  Other Nursing Services on the Internet    Schools of Nursing....   Brigham Young University College of Nursing   Penn State University School of Nursing  University of California at San Francisco School of Nursing   University of Delaware Nursing  University of Iowa   University of Maryland School of Nursing   University of Pennsylvania School of Nursing  University of Washington   If you do not see a listing here, as of yet, check the College Corner     On-Line Journals - Peer Reviewed   On-Line Journal for Nursing Informatics  FREE Subscription!       Health Care Resources....    PIGLET   HealthNet   National Library of Medicine   World Health Organization   Virtual Library of Biosciences/Medicine   Lee Hancock's List   Virtual Hospital   NLM: The Visible Human  Johns Hopkins University BioInformatics   The Virtual Frog   X-RAY   Medicinal Herb Garden  Other Resources on the Internet    Sexuality....    Sex: Society and Culture   Ask Alice   PERSPECTIVES   Other Resources   Safer Sex   Multimedia Safer Sex      Virtual Courses in Nursing   Penn State University     Employment Opportunities   Medical/Health Care Jobs     This site is maintained by Dr. Dee McGonigle, Associate Professor of Nursing, Penn State University. Please send your comments, link outages, links to be added, or requests to Dee McGonigle \n",
      "Label: BioMedical\n",
      "\n",
      "Texto:  Agricultural Biotechnology Information Center (NAL)  (DIR) Click here to continue...     Sorry this link has moved    Please make the following change to your link info..    Name=Use the same name    Type=1    Path=1/EdRes/Biotechnology_Information_Center    Host=gopher.inforM.umd.edu     Port=70 \n",
      "Label: BioMedical\n",
      "\n",
      "Texto:  Short description of cell lines. Species: goat      (update September 1995 )       Short description of cell lines. Species: goat   By selecting one of the terms between parentheses, you will receive the list of all relevant cell lines   Ch.1.ES (NBL-8) ( oesophagus )   By Beatrice... \n",
      "Label: Goats\n",
      "\n",
      "Texto:   The Angels of Venice        A Time For Dreams              (Excerpt 160k, 240k / Full song 4:59 mins, 3.59M, 7.18M)     Classical ,  New Age                       May We Introduce Ourselves...   We are \"The Angels of Venice,\" a trio of professional female musicians performing original music for harp, flute and cello in the romantic/neoclassical style. Dressed completely in white, we have been told our appearance is as striking as the beauty and feeling our music imparts to our listeners.  We specialize in creating an enchanting atmosphere for special occasions, from small private parties to weddings to large media and world events, of which we have extensive experience.  We have had the collective experience of playing in symphonies and doing session work for movie studios, to performing at the World Cup-sponsored \"Three Tenors\" concert at Dodger Stadium. We were just recently invited to play at The Screen Actors Guild Awards Ceremony Dinner. Our cellist participated in Yanni's \"World Tour 1995\" performing in countries around the world. Members of our prior audiences include Tom Hanks, Bob Hope, Phyllis Diller, Ann-Margaret, Jackson Browne, Graham Nash, Guns 'N Roses, and many others.  Our music evokes happiness and pure joy as well as introspection, self-reflection and contemplation of one's inner spiritual world. Our credo is:   \"The Angels of Venice are Dedicated to Expressing Through Music the Beauty and Mystery of the Human Spirit and Celebrating the Gift of Life.\"     Our current release is entitled \"The Angels of Venice - Music for Harp, Flute and Cello\" and we have manufactured CDs and cassettes of this title. To date we have sold on our own over 5,000 recordings of this original music. We sell directly to customers and through mail order and our music has been circulated from Los Angeles to Russia. We currently have distribution agreements with several well-respected companies.  We are writing to announce our availability to you for performances. We can be contacted at the telephone number listed at the top of this page. The Angels of Venice thank you in advance for your consideration.  Sincerely,  The Angels of Venice  Carol Tatum, Harp     POST OFFICE BOX 50694 PASADENA, CALIFORNIA 91115-0694 CONTACT: (818)548-2422 TO ORDER: 800-7-ANGEL-8    About The Musicians...  Originally from Dallas, Texas, harpist Carol Tatum has been playing stringed instruments since the age of seven and is the founder of \"The Angels of Venice.\" In addition to harp, Carol plays acoustic and electric guitar, mandolin, bouzouki and oud. She is an ASCAP member and published writer including co-writing nine songs for the rock group Kingdom Come's third album on PolyGram and fourth album on Warner Bros. Records. Having been introduced to Strauss waltzes, Vivaldi and Erik Satie at an early age, she combined her classical sensibilities and rock instincts together to weave a unique tapestry of instrumental music that is the style and essence of \"The Angels of Venice.\" She is currently studying with Debussy Trio harpist Marcia Dickstein and makes her home in Glendale, California.  Cellist Sarah O'Brien , originally from Nottingham, England, was invited to the United States on a Fulbright Scholarship to study cello performance at the University of Southern California. Now living in Los Angeles, Sarah is active as a session musician for the major Hollywood studios. Her soundtrack work includes \"Beverly Hills Cop III,\" \"Naked Gun 33 1/3\" and \"Star Trek VII\" and television shows \"Star Trek: Generation,\" \"Deep Space Nine\" and \"Voyager.\" In addition to continued classical concert work, Sarah regularly plays and records with rock musicians and groups of diverse style. She is currently accompanying Yanni on his \"1995 World Tour.\"  Flautist Suzanne Teng was born in Berkley, California and has been playing flute for twenty-three years. She holds a Masters Degree from the School for the Arts at Boston University and is pursuing a Ph.D. from UCLA's Department of Ethnomusicology. Suzanne is a classically trained musician and has performed with classical symphonies, pop orchestras, Baroque chamber ensembles, rock and reggae bands, folk and new age bands and various ethnic music ensembles. She has further performed with Tito Puente, Babatundi Olatunji, Airto and Flora Purim and members of the bands Yes, Little Feat, Spirit and Devo. In addition to flute, Suzanne also sings, plays violin, piano and a variety of percussion instruments and is a professional dancer. Television and commercial credits include \"Murder She Wrote,\" \"Pepsi\" and the feature film \"Separate Lives\" with Jim Belushi and Linda Hamilton. As a teacher, she has instructed hundreds of students at conservatories, music camps and in her private studio and has taught workshops on music and healing. She currently resides in Topanga Canyon, California.            \n",
      "Label: Bands\n",
      "\n",
      "\n",
      "🔹 Exemplos do conjunto VALIDATION:\n",
      "\n",
      "Texto:  The Sheep Fiends      The Sheep Fiends  Graphic by Russ McClay . Last updated: 04/16/96   e-mail address: sheepfiends@nexchi.com     Sheep Fiends Introduction  Commentary by The Sheep Fiends Musicians  Upcoming & Past Gigs  The Sheep Fiends Musicians  The Sheep Fiends History  The Sheep Fiends Art Page  The Sheep Fiends' Photo Album  SheepJam Mailing List  Related Bands  The Sheep Fiends FAQ in text format  Sheep related links  Sheep Fiends Cool Link Page   Recordings:  The Sheep Fiends   Neil  Meme  Sacred  The Tremendum  Enter...  Live from the Void (two tapes)  Principles of Chimera  Light  Dark  Untitled   Related Recordings   Dan Foss Lecture Tape #1  Leri-L Musicians Compilation Tape #1      The Sheep Fiends Ordering Information     Someday to be available:  Sound samples of The Sheep Fiends (.au) format     Notes    People are encouraged to copy and distribute tapes by The Sheep Fiends. The only thing we ask is that you include the following information on any duplicates. Please check this page occasionally as the URL and e-mail is subject to change.  Please retain this information on any duplicates of this tape. (c) (date on tape) The Sheep Fiends To acceess The Sheep Fiends via WWW = http://www.nexchi.com/sheepfiends/ via e-mail = sheepfiends@nexchi.com  The Sheep Fiends Web Page and FAQ was put together by  Brian Cameron . Thanks to everyone who helped me gather information and otherwise helped me put this together!  Special thanks to Dave Hurst for running The Sheep Fiends web page on his account when I didn't have a publically accessable internet account.  Special thanks to Russ McClay for designing logos and images for these web pages. Click here to see Russ McClay's web page of artwork. His email address is rmm@TranSend.com.tw . Special thanks also goes to Mark Goodman for the use of his computer-manipulated photographic artwork which we include as inserts in our tape labels. Click on Mark's name to see examples of his artwork.  Special thanks also to Darin Stumme for his wonderful work designing and printing tape labels, for taking photos, and for his help with many other Sheep Fiends related projects. This page, the graphics, and this Sheep Fiends web site, copyright 1994-1996 The Sheep Fiends.      This page is maintained by sheepfiends@nexchi.com  \n",
      "Label: Sheep\n",
      "\n",
      "Texto:    Stuart's Sheep Page    Stuart's Sheep Page    Many people think I'm mad, but I do like sheep. Here's a clickable field of sheep, try clicking on them (each one of them has a message!)   Try my sheep test  Inspired by Steerpike's  Spot the Ball  ,try my very own  Spot the Sheep . Enjoy viewing some lovely pictures of ASCII sheep .  Protein Structure Group, Dept. of Chemistry , University of York , Heslington, YORK, UK, YO1 5DD. 01904 432519  Produced by Stuart Priest  priest@yorvic.york.ac.uk      \n",
      "Label: Sheep\n",
      "\n",
      "Texto:  WWW CANCER    Get the Information on Cancer    Advanced Research&#174; welcomes  cress.ics.uci.edu  . WWW Cancer is a Community-oriented Worldwide Web outreach project that enables easy access to Cancer related databases worldwide. A  Spanish  version of this page is also available. We are currently hosting:     NCI Clinical Cancer Information for Patients  .    NCI Clinical Cancer Information for Physicians     NCI Cancer Supportive Care, Screening, and Prevention Reports  .    NCI Cancer Drug Treatment Information  .    NCI Cancer Fact Statements  .    NCI News on PDQ  .    OncoLink Disease Oriented Databases     NCI ICIC Page  .    Search our Cancer Database  .     To ARC's Home Page  .      Farewell to a Friend of the Company    \n",
      "Label: BioMedical\n",
      "\n",
      "Texto:   Lindbergh, Don   Lindbergh, Don         After the Rain           (Excerpt 51k, 119k / Full song 4 mins, 3.66M)     Pop ,  Rock                Hear the snap and crackle of perfect pop. Warm and bright, filled with pure melodic hooks and harmonies.  All instruments and voices / produced and engineered by Don Lindbergh  \"After the Rain\" Lyrics text file  Don Lindbergh has been composing and producing music for 20 years. Among his recent projects is a musical and visual interpretation of Samuel Taylor Coleridge's poem \"Christabel\", a psychosexual story of a young girl's intiation into womanhood.  Also available:  \"DABL\" (7 songs, includes \"After the Rain\") \"IU Tapes\" (7 songs) \"Nile Concert\" (12 songs, promos) \"Bootleg III\" (12 songs) \"Basement Tapes\" (12 songs)  Cassette(s): $8.00 DAT by special request  \"Christabel\" (27 mins. Film. Long form music video) (also includes \"After the Rain\", \"Never Harm Me\" music videos) \"Lock Out\" (43 mins. Film. Music performed by Don Lindbergh) \"Bitter Weekend\" (33 mins. Film. Music produced and engineered by Don Lindbergh) \"Video Carnage\" (43 mins. Film. Includes \"Dealing With Agression\" music by Don Lindbergh)  VHS, SVHS (both Hi-Fi), 3/4\", Cassette) VHS: $22.00  SVHS: $27.00 3/4\": $32 CASS: $8.00 DAT by special request  (includes shipping within US, all others +$2 pay by MO or check to:)   Don Lindbergh  6378 Broadway Indianapolis, IN 46220 (317) 251-5204 Internet: dabl2@lhc.nlm.nih.gov   (c)1994 Singular Sound Music. All rights reserved.            \n",
      "Label: Bands\n",
      "\n",
      "Texto:  Educational Courses on the Web  Virtual courses on the Web  This is just a list of virtual courses that I know of on the net, if you know of more please inform me. If you are interested in writing a course let me know I would be glad to offer suggestions. I am currently working on a Cell Biology course and next will be a Robotics Course. If you have additions or changes contact: mwd@cray.com    Last update: October 10, 1995.   Table of Contents   1. Academies or Groups of courses on various topics .  2. Genetics and Cell Biology courses  3. Molecular Biology/modelling and Biochemistry .  4. Biocomputing .  5. General Biology .  6. Medicine and medical related .  7. Chemistry courses/tutorials .  8. Digital Image Processing .  9. Programming Tutorials .  10. Music tutorials/information . - NEW!!  11. Other tutorials or courses .    Academies:    Cyberspace Middle School  .   National Teachers Enhancement Network  .  GNA - Global Network Academy :       GNA-VSNS Biocomputing Homepage     GNA's Virtual School of Natural Sciences     GNA Course: Introductory Internet Course on LitProg     The World Lecture Hall  Full of pointers to courses.   EmoryCLASS  - Numerous course in various subjects.  Various Courses in the Sciences or Biological Sciences Educational Resources   Educational Resources Hotlist     Genetics and Cell Biology:    The Biology of Infection and Immunity - New! - Okay, I need new categories.  Cell Biology - Under construction   New!  Cells Alive!! - A Great page about Cell Biology, viruses and Bacteriology, with videos.  7.01 WWW book on Biology To Chemistry . - This has one of the finest courses I have seen on biology.  Dictionary of Cell Biology .  Recombinant DNA Technology Class - Clickable Flow chart.  Course Notes and Tutorials of Selected Topics in General Virology , Also see the general page for Molecular Virology at the University of Wisconsin .  Primer on Molecular Biology .  Teaching Molecular Structures for K-12 .    Molecular Biology/modelling and Biochemistry:    Clinical Case Computer Tutorials in Biochemistry - Downloadable Macintosh tutorial.  Movies DNA,Protein,etc - from Virginia tech.  The Cambridge University Molecular Modeling Teaching Laboratory .  NetBiochem Medical Biochemistry.  Primer on Molecular Biology .  Teaching Molecular Structures for K-12 .  Medical Biochemistry   The NIH Guide to Molecular Modeling    Biocomputing:    Pedros BiolMolecular Research Tools - Guides, Tutorials and Help Tools .  GNA-VSNS Biocomputing Homepage     General Biology:    The Biology of Infection and Immunity - New! - Okay, I need new categories.  Blood Flow of the Human Heart - University of Minnesota.  Frog dissections , another is at Virginia Frog dissection instruction .    Medicine:    The Biology of Infection and Immunity - New! - Okay, I need new categories.  Medical Terminology in several languages   Clinical Case Computer Tutorials in Biochemistry - Downloadable Macintosh tutorial.   Dermatology WWW-Server .  Blood Flow of the Human Heart - University of Minnesota.  Univ. of Washington Radiology a Webserver   The Virtual Hospital .  NetBiochem Medical Biochemistry.  Medical Biochemistry    Chemistry:    Global Instructional Chemistry .  Hyperactive Molecules Using Chemical MIME .  Chemistry Tutorials - Organic Chemistry - Molecular Modeling .  7.01 WWW book on Biology To Chemistry .  Analytic, Organic and Physical Chemistry Tutorials - from Virginia Tech.    About these Digital Image processing pages . Digital Image processing in the (USA) . Digital Image processing in the (USA) . Digital Image processing in (Brazil) . Digital Image processing in (Spain) .   Programming tutorials   For C++:   On-line text for C++ .  C++ Tutorial Textbook (18-Aug-1994) .  Index of Object Oriented Programming Using C++   GNA Course: Introduction to Object-Oriented Programming Using C++  For Perl:   PERL -- Practical Extraction and Report Language  For Fortran 90:  P. Corde and H. Delouis, \"Support de cours Fortran 90 IDRIS\".   This is a very complete reference (224 pp.), in French, for   which the authors have agreed to give free access.  ftp://ftp.ifremer.fr/pub/ifremer/fortran90/IDRIS_F90_cours_4.ps.gz  FTP: ftp.ifremer.fr  pub/ifremer/fortran90/f90_cours_4.ps WWW: Fortran 90 IDRIS   Bo Einarsson and Yurij Shokin have written a tutorial on the   transition from Fortran 77 to Fortran 90, with the title \"Fortran 90   for the Fortran 77 programmer\" nsc.liu.se (130.236.100.5) pub/bibliotek/f77to90.txt   Michel Goossens has now installed a Fortran 90 tutorial on the   World Wide Web (WWW) under the URL :  F90 Tutorial/Overview - http://asis01.cern.ch/CN/CNTUT/f90/Overview.html  There is no copyright on this material.  There is a Fortran (90) tutorial on the net that might be of some use   Tutorial from New Mexico    See also:  ftp.th-darm stadt.de  /pub/thd/fortran/f90/     Music Courses/tutorials   Guitar:   Sound Hole has information on Acoustic Guitarists, with Feature Articles on \"Developing Finger Independence In The Alternating-Bass Finger Picking Style\". Also there are playing and recording tips, sound bites, etc. from the musicians.    Other Courses:    National Teachers Enhancement Network .  Training Modules for NanoFabrication .  Tutorial from Complex Systems 92   Under Construction A start of a Robotics Course .   For additions or changes contact:  mwd@cray.com \n",
      "Label: BioMedical\n",
      "\n",
      "\n",
      "🔹 Exemplos do conjunto TEST:\n",
      "\n",
      "Texto:  Email to Kittens and Goats Organization   Email to The Kittens and Goats Organization    We are a non-profit, all volunteer organization who care for stray animals, everything from kittens to goats.  Thank you for all the wonderful letters that we have received over the past year.  We are often asked for pets, but unfortunately we do not have the money or the legal department to properly document and ship animals across state lines. Sorry, we recommend you visit the your local SPCA and save an animal from destruction.   Please do not send us money or any more pet food. If you like what we do, please join us by saving animals in your local community.  Note: This is an HTML form. You must have a browser that supports forms in order to use it. If you do not see text editing areas below, your browser does not support forms. Send mail directly to topcat@kgo.com instead.  Enter your message in the areas provided below. Be sure to fill out all of the fields.   Your Name  Your Email Address  Subject   Text:    Click  to submit your message. Click  to clear your message and start over.  \n",
      "Label: Goats\n",
      "\n",
      "Texto:  credits and spam  Credits and Thanks  Goat --did most ov everything you see, so far. (please, Rick, do somthing to this page, so I don't seem like an arrogent asshole).  Rick --\"All right, I'm workin on it.\"  Dr. Laxer --scanned ALL the photos, to whom we are VERY grateful.  Dot --to whom i will never forget, wherever you are...    \n",
      "Label: Goats\n",
      "\n",
      "Texto:   The Inhalers   Inhalers, The         Kind              (Excerpt 132k, 198k / Full song 3 mins, 2.22M, 4.43M)     Rock ,  Pop               The Inhalers   THE INHALERS' ADDRESS:  6722 Benjamin St. McLean, VA 22101   CONTACT:  Tripp Green TEL: 703/448/9242            \n",
      "Label: Bands\n",
      "\n",
      "Texto:    Journal of Clinical Microbiology             The Journal of Clinical Microbiology is devoted to the dissemination of new knowledge related concerning the applied microbiological aspects of human and animal infections and infestations, particularly regarding their etiologic agents, diagnosis, and epidemiology.       Editorial Board  -- What you should know to view this information     Instructions to Authors --  What you should know to view this information     Table of Contents      [ Online Order Form |  ASM Journals  | ASM Programs, Products and Services |   ASM Home Page ]     For more information, send email to  webmaster@asmusa.org   Copyright &copy 1995 American Society for Microbiology All rights reserved. Revised: June 23, 1995 URL: http://www.asmusa.org  \n",
      "Label: BioMedical\n",
      "\n",
      "Texto:    International Lung Sounds Association (ILSA)     International Lung Sounds Association    W elcome to the home page of the International Lung Sounds Association . This society provides a forum for physicians, physiologists, physicists and engineers who study respiration acoustics. You can find information on the history , membership , and organization of the Association here.     The 20th International Lung Sounds Conference  will be held in  Long Beach, California, October 11-13, 1995 . For details about the conference, read the conference information .    T he following resources may be of value to anyone interested in respiration acoustics:    Abstracts and Announcements     Bibliography     Tools and Techniques    Other resources of interest:   Consider a visit at  the Virtual Hospital   or at The R.A.L.E. Repository  where digital respiratory sound samples are available.  You may also want check these sites on   Acoustical societies  Auditory perception  ... more on auditory perception   Computational fluid dynamics  Neural networks  and neural computing servers   Nonlinear biologic processes  Scientific visualization  Signal processing  incl. digital signal processing   Sound computation  Speech sciences   You can read about places and programs related to respiratory acoustic research:  the  CORSA project , funded by the European Community, the Helsinki University Institute of Biomedical Engineering in Finland, and the Research Triangle Institute Human Studies Facility in North Carolina.  These places may also be of interest:  Biomedical engineering resources, BMEnet  Home page of the Institute of Electrical and Electronic Engineers, IEEE  Publications of the American Physiological Society, APS  Table of contents of the Annals of Biomedical Engineering  Online exhibition of High Technology companies and products Information page on the Sonification of Scientific Data.   For more general medical and physiological information, try these sites:   Medicine   Medical Education  Medical Multimedia  Biomedical resources  Physiology and Biosciences   If you do not find at these sites what you are looking for, try the one of the many Internet search facilities .   If you have questions, comments or pointers to related sites on the Internet, please send     Electronic Mail to  H_Pasterkamp@UManitoba.CA  August 21, 1995 Hans Pasterkamp, M.D., University of Manitoba , Winnipeg , Canada  \n",
      "Label: BioMedical\n",
      "\n"
     ]
    }
   ],
   "source": [
    "for split in [\"train\", \"validation\", \"test\"]:\n",
    "    print(f\"\\n🔹 Exemplos do conjunto {split.upper()}:\\n\")\n",
    "    for i in range(5):\n",
    "        print(f\"Texto: {dataset_final[split][i]['text']}\")\n",
    "        print(f\"Label: {dataset_final[split][i]['label']}\\n\")\n"
   ]
  },
  {
   "cell_type": "code",
   "execution_count": 7,
   "metadata": {},
   "outputs": [
    {
     "name": "stdout",
     "output_type": "stream",
     "text": [
      "{'Goats', 'Bands', 'BioMedical', 'Sheep'}\n",
      "{'Bands', 'Goats', 'BioMedical', 'Sheep'}\n",
      "{'Goats', 'Bands', 'BioMedical', 'Sheep'}\n"
     ]
    }
   ],
   "source": [
    "# Exibir rótulos únicos antes da conversão\n",
    "print(set(dataset_final[\"train\"][\"label\"]))\n",
    "print(set(dataset_final[\"validation\"][\"label\"]))\n",
    "print(set(dataset_final[\"test\"][\"label\"]))\n"
   ]
  },
  {
   "cell_type": "code",
   "execution_count": null,
   "metadata": {},
   "outputs": [],
   "source": [
    "\"\"\"def fix_labels(example):\n",
    "    label_map = {\"BioMedical\": 0, \"Goats\": 1, \"Bands\": 2, \"Sheep\": 3}  # Mapeia os rótulos para números\n",
    "    example[\"label\"] = label_map.get(example[\"label\"], -1)  # Define -1 para valores desconhecidos\n",
    "    return example\n",
    "\n",
    "dataset_final = dataset_final.map(fix_labels)\"\"\"\n"
   ]
  },
  {
   "cell_type": "code",
   "execution_count": 8,
   "metadata": {},
   "outputs": [
    {
     "name": "stdout",
     "output_type": "stream",
     "text": [
      "['file_name', 'text', 'label', '__index_level_0__']\n"
     ]
    }
   ],
   "source": [
    "# Verificar as colunas disponíveis\n",
    "print(dataset_final[\"train\"].column_names)"
   ]
  },
  {
   "cell_type": "code",
   "execution_count": 9,
   "metadata": {},
   "outputs": [
    {
     "name": "stdout",
     "output_type": "stream",
     "text": [
      "Exemplo 0: {'file_name': '124-2002600785', 'text': '    Boston University School of Public Health    W elcome to       B oston U niversity  S chool of P ublic H ealth        BUSPH Web Search Engine    (If you\\'re looking for something in particular, and you just don\\'t have time to wade...)  Home Page Links       1994/95 Bulletin   The School of Public Health Bulletin provides information about the school\\'s departments, courses, calendar, history, and more.       Public Health Forums    Current schedule of Public Health Forums at BUSPH.  (June 14, 1995)       Departments & Organizations at BUSPH   A new venue for BUSPH departments and affiliated organizations. So far, Epidemiology & Biostatistics , Join Together , and the Health Law Department . (May 7, 1995)        Current Research at BUSPH   A sampling of current research papers from BUSPH faculty. ( prototype stage ).       BU Medical School Server   Sponsored by the library and maintained by resident students, this server provides information about library services, staff, student announcements, job opportunities, and medical specialties, as well as links to other groups at BUSM.       Boston University WWW Server   The official BU web server offers links to local and external information services, other school catalogs, and a \"what\\'s new\" page for the BU Web.       Boston University Online Directory   For off-campus access, there is also a gopherable directory .      Questions? Comments?   Please fill out our comment form .         Boston University is seeking an individual to serve as Chair of the Department of Health Services in the School of Public Health, and as the first Director of the Center for Health Care Research in the Schools of Medicine and Public Health.   Here\\'s more information . (6/9/95)  The BUSPH Web Project is courtesy of the Department of Environmental Health.       A bout...    BUSPH Home Page and Bulletin prepared for the World Wide Web by Chris Paulu ( cpaulu@bu.edu ), Department of Environmental Health .  ', 'label': 'BioMedical', '__index_level_0__': 135}\n",
      "Exemplo 1: {'file_name': '23', 'text': \"     The World-Wide Web Virtual Library: Biosciences - Nursing            Nursing ( Biosciences )   Information categorised by subject. See also other subjects.  If you know of on-line information that is not included in these lists, please e-mail Dee McGonigle.   See also :   The WWW VL: Biosciences   Searchable Index for the WWW VL Biosciences    Nursing Resources....    NIGHTINGALE   EINet Galaxy Nursing Sites   E.T.Net at The National Library of Medicine   NURSE   AJN Network Homepage   Nurse Midwifery   Homebirth/Midwifery  Nursing Services  University of Arizona NurseNet  Other Nursing Services on the Internet    Schools of Nursing....   Brigham Young University College of Nursing   Penn State University School of Nursing  University of California at San Francisco School of Nursing   University of Delaware Nursing  University of Iowa   University of Maryland School of Nursing   University of Pennsylvania School of Nursing  University of Washington   If you do not see a listing here, as of yet, check the College Corner     On-Line Journals - Peer Reviewed   On-Line Journal for Nursing Informatics  FREE Subscription!       Health Care Resources....    PIGLET   HealthNet   National Library of Medicine   World Health Organization   Virtual Library of Biosciences/Medicine   Lee Hancock's List   Virtual Hospital   NLM: The Visible Human  Johns Hopkins University BioInformatics   The Virtual Frog   X-RAY   Medicinal Herb Garden  Other Resources on the Internet    Sexuality....    Sex: Society and Culture   Ask Alice   PERSPECTIVES   Other Resources   Safer Sex   Multimedia Safer Sex      Virtual Courses in Nursing   Penn State University     Employment Opportunities   Medical/Health Care Jobs     This site is maintained by Dr. Dee McGonigle, Associate Professor of Nursing, Penn State University. Please send your comments, link outages, links to be added, or requests to Dee McGonigle \", 'label': 'BioMedical', '__index_level_0__': 130}\n",
      "Exemplo 2: {'file_name': '4-438263339', 'text': ' Agricultural Biotechnology Information Center (NAL)  (DIR) Click here to continue...     Sorry this link has moved    Please make the following change to your link info..    Name=Use the same name    Type=1    Path=1/EdRes/Biotechnology_Information_Center    Host=gopher.inforM.umd.edu     Port=70 ', 'label': 'BioMedical', '__index_level_0__': 79}\n",
      "Exemplo 3: {'file_name': '19', 'text': ' Short description of cell lines. Species: goat      (update September 1995 )       Short description of cell lines. Species: goat   By selecting one of the terms between parentheses, you will receive the list of all relevant cell lines   Ch.1.ES (NBL-8) ( oesophagus )   By Beatrice... ', 'label': 'Goats', '__index_level_0__': 229}\n",
      "Exemplo 4: {'file_name': '30', 'text': '  The Angels of Venice        A Time For Dreams              (Excerpt 160k, 240k / Full song 4:59 mins, 3.59M, 7.18M)     Classical ,  New Age                       May We Introduce Ourselves...   We are \"The Angels of Venice,\" a trio of professional female musicians performing original music for harp, flute and cello in the romantic/neoclassical style. Dressed completely in white, we have been told our appearance is as striking as the beauty and feeling our music imparts to our listeners.  We specialize in creating an enchanting atmosphere for special occasions, from small private parties to weddings to large media and world events, of which we have extensive experience.  We have had the collective experience of playing in symphonies and doing session work for movie studios, to performing at the World Cup-sponsored \"Three Tenors\" concert at Dodger Stadium. We were just recently invited to play at The Screen Actors Guild Awards Ceremony Dinner. Our cellist participated in Yanni\\'s \"World Tour 1995\" performing in countries around the world. Members of our prior audiences include Tom Hanks, Bob Hope, Phyllis Diller, Ann-Margaret, Jackson Browne, Graham Nash, Guns \\'N Roses, and many others.  Our music evokes happiness and pure joy as well as introspection, self-reflection and contemplation of one\\'s inner spiritual world. Our credo is:   \"The Angels of Venice are Dedicated to Expressing Through Music the Beauty and Mystery of the Human Spirit and Celebrating the Gift of Life.\"     Our current release is entitled \"The Angels of Venice - Music for Harp, Flute and Cello\" and we have manufactured CDs and cassettes of this title. To date we have sold on our own over 5,000 recordings of this original music. We sell directly to customers and through mail order and our music has been circulated from Los Angeles to Russia. We currently have distribution agreements with several well-respected companies.  We are writing to announce our availability to you for performances. We can be contacted at the telephone number listed at the top of this page. The Angels of Venice thank you in advance for your consideration.  Sincerely,  The Angels of Venice  Carol Tatum, Harp     POST OFFICE BOX 50694 PASADENA, CALIFORNIA 91115-0694 CONTACT: (818)548-2422 TO ORDER: 800-7-ANGEL-8    About The Musicians...  Originally from Dallas, Texas, harpist Carol Tatum has been playing stringed instruments since the age of seven and is the founder of \"The Angels of Venice.\" In addition to harp, Carol plays acoustic and electric guitar, mandolin, bouzouki and oud. She is an ASCAP member and published writer including co-writing nine songs for the rock group Kingdom Come\\'s third album on PolyGram and fourth album on Warner Bros. Records. Having been introduced to Strauss waltzes, Vivaldi and Erik Satie at an early age, she combined her classical sensibilities and rock instincts together to weave a unique tapestry of instrumental music that is the style and essence of \"The Angels of Venice.\" She is currently studying with Debussy Trio harpist Marcia Dickstein and makes her home in Glendale, California.  Cellist Sarah O\\'Brien , originally from Nottingham, England, was invited to the United States on a Fulbright Scholarship to study cello performance at the University of Southern California. Now living in Los Angeles, Sarah is active as a session musician for the major Hollywood studios. Her soundtrack work includes \"Beverly Hills Cop III,\" \"Naked Gun 33 1/3\" and \"Star Trek VII\" and television shows \"Star Trek: Generation,\" \"Deep Space Nine\" and \"Voyager.\" In addition to continued classical concert work, Sarah regularly plays and records with rock musicians and groups of diverse style. She is currently accompanying Yanni on his \"1995 World Tour.\"  Flautist Suzanne Teng was born in Berkley, California and has been playing flute for twenty-three years. She holds a Masters Degree from the School for the Arts at Boston University and is pursuing a Ph.D. from UCLA\\'s Department of Ethnomusicology. Suzanne is a classically trained musician and has performed with classical symphonies, pop orchestras, Baroque chamber ensembles, rock and reggae bands, folk and new age bands and various ethnic music ensembles. She has further performed with Tito Puente, Babatundi Olatunji, Airto and Flora Purim and members of the bands Yes, Little Feat, Spirit and Devo. In addition to flute, Suzanne also sings, plays violin, piano and a variety of percussion instruments and is a professional dancer. Television and commercial credits include \"Murder She Wrote,\" \"Pepsi\" and the feature film \"Separate Lives\" with Jim Belushi and Linda Hamilton. As a teacher, she has instructed hundreds of students at conservatories, music camps and in her private studio and has taught workshops on music and healing. She currently resides in Topanga Canyon, California.            ', 'label': 'Bands', '__index_level_0__': 56}\n"
     ]
    }
   ],
   "source": [
    "# Exibir algumas amostras para analisar os tipos\n",
    "for i in range(5):\n",
    "    print(f\"Exemplo {i}: {dataset_final['train'][i]}\")"
   ]
  },
  {
   "cell_type": "code",
   "execution_count": 10,
   "metadata": {},
   "outputs": [],
   "source": [
    "dataset_final = dataset_final.remove_columns([\"file_name\"])"
   ]
  },
  {
   "cell_type": "code",
   "execution_count": 11,
   "metadata": {},
   "outputs": [
    {
     "name": "stdout",
     "output_type": "stream",
     "text": [
      "['text', 'label', '__index_level_0__']\n"
     ]
    }
   ],
   "source": [
    "# Verificar as colunas disponíveis\n",
    "print(dataset_final[\"validation\"].column_names)"
   ]
  },
  {
   "cell_type": "code",
   "execution_count": 12,
   "metadata": {},
   "outputs": [
    {
     "name": "stdout",
     "output_type": "stream",
     "text": [
      "Exemplo 0 - Tipo: <class 'str'>\n",
      "Exemplo 1 - Tipo: <class 'str'>\n",
      "Exemplo 2 - Tipo: <class 'str'>\n",
      "Exemplo 3 - Tipo: <class 'str'>\n",
      "Exemplo 4 - Tipo: <class 'str'>\n"
     ]
    }
   ],
   "source": [
    "# Verificar tipos\n",
    "for i in range(5):  # Checar algumas amostras\n",
    "    print(f\"Exemplo {i} - Tipo: {type(dataset_final['train'][i]['text'])}\")\n"
   ]
  },
  {
   "cell_type": "markdown",
   "metadata": {},
   "source": [
    "# Tokenizar os textos"
   ]
  },
  {
   "cell_type": "code",
   "execution_count": 13,
   "metadata": {},
   "outputs": [
    {
     "name": "stdout",
     "output_type": "stream",
     "text": [
      "{'input_ids': tensor([[  101,  2474, 14876,  ...,  2189,  3496,   102],\n",
      "        [  101,  5395,  1010,  ...,     0,     0,     0],\n",
      "        [  101,  6795,  1010,  ...,  6530,  1999,   102],\n",
      "        ...,\n",
      "        [  101, 12121,  5814,  ...,  1996,  4091,   102],\n",
      "        [  101,  8351,  4167,  ...,     0,     0,     0],\n",
      "        [  101, 29215,  2102,  ...,     0,     0,     0]]), 'token_type_ids': tensor([[0, 0, 0,  ..., 0, 0, 0],\n",
      "        [0, 0, 0,  ..., 0, 0, 0],\n",
      "        [0, 0, 0,  ..., 0, 0, 0],\n",
      "        ...,\n",
      "        [0, 0, 0,  ..., 0, 0, 0],\n",
      "        [0, 0, 0,  ..., 0, 0, 0],\n",
      "        [0, 0, 0,  ..., 0, 0, 0]]), 'attention_mask': tensor([[1, 1, 1,  ..., 1, 1, 1],\n",
      "        [1, 1, 1,  ..., 0, 0, 0],\n",
      "        [1, 1, 1,  ..., 1, 1, 1],\n",
      "        ...,\n",
      "        [1, 1, 1,  ..., 1, 1, 1],\n",
      "        [1, 1, 1,  ..., 0, 0, 0],\n",
      "        [1, 1, 1,  ..., 0, 0, 0]])}\n"
     ]
    }
   ],
   "source": [
    "tokenizer = BertTokenizer.from_pretrained(\"bert-base-uncased\")\n",
    "\n",
    "encodings = tokenizer(list(df[\"text\"]), padding=True, truncation=True, return_tensors=\"pt\")\n",
    "\n",
    "# Verificar os encodings\n",
    "print(encodings)"
   ]
  },
  {
   "cell_type": "code",
   "execution_count": 15,
   "metadata": {},
   "outputs": [
    {
     "data": {
      "application/vnd.jupyter.widget-view+json": {
       "model_id": "210e136d9efc4249b1902e06c22f771a",
       "version_major": 2,
       "version_minor": 0
      },
      "text/plain": [
       "Map:   0%|          | 0/233 [00:00<?, ? examples/s]"
      ]
     },
     "metadata": {},
     "output_type": "display_data"
    },
    {
     "data": {
      "application/vnd.jupyter.widget-view+json": {
       "model_id": "49ccaa01f8e34ddeb2cf4f3e906ef334",
       "version_major": 2,
       "version_minor": 0
      },
      "text/plain": [
       "Map:   0%|          | 0/33 [00:00<?, ? examples/s]"
      ]
     },
     "metadata": {},
     "output_type": "display_data"
    },
    {
     "data": {
      "application/vnd.jupyter.widget-view+json": {
       "model_id": "4f5a01d1dbdc413189eb5f4d033b6292",
       "version_major": 2,
       "version_minor": 0
      },
      "text/plain": [
       "Map:   0%|          | 0/67 [00:00<?, ? examples/s]"
      ]
     },
     "metadata": {},
     "output_type": "display_data"
    },
    {
     "name": "stdout",
     "output_type": "stream",
     "text": [
      "Tokens de um documento:\n",
      "['boston', 'university', 'school', 'of', 'public', 'health', 'w', 'el', '##com', '##e', 'to', 'b', 'os', '##ton', 'u', 'ni', '##vers', '##ity', 's', 'cho', '##ol', 'of', 'p', 'u', '##bl', '##ic', 'h', 'ea', '##lth', 'bus', '##ph', 'web', 'search', 'engine', '(', 'if', 'you', \"'\", 're', 'looking', 'for', 'something', 'in', 'particular', ',', 'and', 'you', 'just', 'don', \"'\", 't', 'have', 'time', 'to', 'wade', '.', '.', '.', ')', 'home', 'page', 'links', '1994', '/', '95', 'bulletin', 'the', 'school', 'of', 'public', 'health', 'bulletin', 'provides', 'information', 'about', 'the', 'school', \"'\", 's', 'departments', ',', 'courses', ',', 'calendar', ',', 'history', ',', 'and', 'more', '.', 'public', 'health', 'forums', 'current', 'schedule', 'of', 'public', 'health', 'forums', 'at', 'bus', '##ph', '.', '(', 'june', '14', ',', '1995', ')', 'departments', '&', 'organizations', 'at', 'bus', '##ph', 'a', 'new', 'venue', 'for', 'bus', '##ph', 'departments', 'and', 'affiliated', 'organizations', '.', 'so', 'far', ',', 'ep', '##ide', '##mi', '##ology', '&', 'bio', '##sta', '##tist', '##ics', ',', 'join', 'together', ',', 'and', 'the', 'health', 'law', 'department', '.', '(', 'may', '7', ',', '1995', ')', 'current', 'research', 'at', 'bus', '##ph', 'a', 'sampling', 'of', 'current', 'research', 'papers', 'from', 'bus', '##ph', 'faculty', '.', '(', 'prototype', 'stage', ')', '.', 'bu', 'medical', 'school', 'server', 'sponsored', 'by', 'the', 'library', 'and', 'maintained', 'by', 'resident', 'students', ',', 'this', 'server', 'provides', 'information', 'about', 'library', 'services', ',', 'staff', ',', 'student', 'announcements', ',', 'job', 'opportunities', ',', 'and', 'medical', 'special', '##ties', ',', 'as', 'well', 'as', 'links', 'to', 'other', 'groups', 'at', 'bus', '##m', '.', 'boston', 'university', 'www', 'server', 'the', 'official', 'bu', 'web', 'server', 'offers', 'links', 'to', 'local', 'and', 'external', 'information', 'services', ',', 'other', 'school', 'catalog', '##s', ',', 'and', 'a', '\"', 'what', \"'\", 's', 'new', '\"', 'page', 'for', 'the', 'bu', 'web', '.', 'boston', 'university', 'online', 'directory', 'for', 'off', '-', 'campus', 'access', ',', 'there', 'is', 'also', 'a', 'go', '##pher', '##able', 'directory', '.', 'questions', '?', 'comments', '?', 'please', 'fill', 'out', 'our', 'comment', 'form', '.', 'boston', 'university', 'is', 'seeking', 'an', 'individual', 'to', 'serve', 'as', 'chair', 'of', 'the', 'department', 'of', 'health', 'services', 'in', 'the', 'school', 'of', 'public', 'health', ',', 'and', 'as', 'the', 'first', 'director', 'of', 'the', 'center', 'for', 'health', 'care', 'research', 'in', 'the', 'schools', 'of', 'medicine', 'and', 'public', 'health', '.', 'here', \"'\", 's', 'more', 'information', '.', '(', '6', '/', '9', '/', '95', ')', 'the', 'bus', '##ph', 'web', 'project', 'is', 'courtesy', 'of', 'the', 'department', 'of', 'environmental', 'health', '.', 'a', 'bout', '.', '.', '.', 'bus', '##ph', 'home', 'page', 'and', 'bulletin', 'prepared', 'for', 'the', 'world', 'wide', 'web', 'by', 'chris', 'paul', '##u', '(', 'cp', '##au', '##lu', '@', 'bu', '.', 'ed', '##u', ')', ',', 'department', 'of', 'environmental', 'health', '.']\n"
     ]
    }
   ],
   "source": [
    "tokenizer = BertTokenizer.from_pretrained(\"bert-base-uncased\")\n",
    "\n",
    "# Função para tokenizar\n",
    "def tokenize_function(examples):\n",
    "    return tokenizer(\n",
    "        text=examples[\"text\"], \n",
    "        padding=True,  # Garante que todos os textos tenham o mesmo tamanho\n",
    "        truncation=True,  # Corta textos muito longos para evitar erro\n",
    "        max_length=512  # Define o tamanho máximo para os tokens\n",
    "    )\n",
    "\n",
    "# Aplicar a tokenização\n",
    "tokenized_datasets = dataset_final.map(tokenize_function, batched=True)\n",
    "\n",
    "# Visualizar tokens de um exemplo\n",
    "example_text = dataset_final[\"train\"][0][\"text\"]\n",
    "tokens = tokenizer.tokenize(example_text)\n",
    "print(\"Tokens de um documento:\")\n",
    "print(tokens)\n"
   ]
  },
  {
   "cell_type": "markdown",
   "metadata": {},
   "source": [
    "# Treinar o modelo BERT"
   ]
  },
  {
   "cell_type": "code",
   "execution_count": null,
   "metadata": {},
   "outputs": [],
   "source": [
    "# Carregar modelo BERT pré-treinado para classificação binária\n",
    "model = BertForSequenceClassification.from_pretrained(\"bert-base-uncased\", num_labels=2)\n",
    "\n",
    "# Configurar os parâmetros de treinamento\n",
    "training_args = TrainingArguments(\n",
    "    output_dir=\"./results\",\n",
    "    evaluation_strategy=\"epoch\",\n",
    "    save_strategy=\"epoch\",\n",
    "    learning_rate=2e-5,\n",
    "    per_device_train_batch_size=8,\n",
    "    per_device_eval_batch_size=8,\n",
    "    num_train_epochs=3,\n",
    "    weight_decay=0.01,\n",
    "    logging_dir=\"./logs\"\n",
    ")\n",
    "\n",
    "# Função de avaliação com métricas\n",
    "def compute_metrics(eval_pred):\n",
    "    logits, labels = eval_pred\n",
    "    preds = np.argmax(logits, axis=1)\n",
    "    acc = accuracy_score(labels, preds)\n",
    "    f1_micro = f1_score(labels, preds, average=\"micro\")\n",
    "    f1_macro = f1_score(labels, preds, average=\"macro\")\n",
    "    return {\"accuracy\": acc, \"f1_micro\": f1_micro, \"f1_macro\": f1_macro}\n",
    "\n",
    "# Criar Trainer\n",
    "trainer = Trainer(\n",
    "    model=model,\n",
    "    args=training_args,\n",
    "    train_dataset=tokenized_datasets[\"train\"],\n",
    "    eval_dataset=tokenized_datasets[\"validation\"],\n",
    "    tokenizer=tokenizer,\n",
    "    compute_metrics=compute_metrics\n",
    ")\n",
    "\n",
    "# Iniciar o treinamento\n",
    "trainer.train()\n"
   ]
  },
  {
   "cell_type": "markdown",
   "metadata": {},
   "source": [
    "# Avaliação no conjunto de teste + Relatório Detalhado"
   ]
  },
  {
   "cell_type": "code",
   "execution_count": null,
   "metadata": {},
   "outputs": [],
   "source": [
    "# Fazer previsões\n",
    "predictions = trainer.predict(tokenized_datasets[\"test\"])\n",
    "preds = np.argmax(predictions.predictions, axis=1)\n",
    "labels = predictions.label_ids\n",
    "\n",
    "# Calcular métricas principais\n",
    "acc = accuracy_score(labels, preds)\n",
    "f1_micro = f1_score(labels, preds, average=\"micro\")\n",
    "f1_macro = f1_score(labels, preds, average=\"macro\")\n",
    "conf_matrix = confusion_matrix(labels, preds)\n",
    "\n",
    "# Exibir métricas principais\n",
    "print(f\"Acurácia: {acc:.4f}\")\n",
    "print(f\"F1-score (Micro): {f1_micro:.4f}\")\n",
    "print(f\"F1-score (Macro): {f1_macro:.4f}\")\n",
    "\n",
    "# Exibir matriz de confusão\n",
    "plt.figure(figsize=(6,6))\n",
    "sns.heatmap(conf_matrix, annot=True, fmt=\"d\", cmap=\"Blues\")\n",
    "plt.xlabel(\"Predito\")\n",
    "plt.ylabel(\"Real\")\n",
    "plt.title(\"Matriz de Confusão\")\n",
    "plt.show()\n",
    "\n",
    "# **Relatório detalhado das métricas**\n",
    "print(\"Relatório de Classificação:\\n\")\n",
    "print(classification_report(labels, preds, target_names=[\"Negativo\", \"Positivo\"]))\n"
   ]
  }
 ],
 "metadata": {
  "kernelspec": {
   "display_name": "base",
   "language": "python",
   "name": "python3"
  },
  "language_info": {
   "codemirror_mode": {
    "name": "ipython",
    "version": 3
   },
   "file_extension": ".py",
   "mimetype": "text/x-python",
   "name": "python",
   "nbconvert_exporter": "python",
   "pygments_lexer": "ipython3",
   "version": "3.12.7"
  }
 },
 "nbformat": 4,
 "nbformat_minor": 2
}
