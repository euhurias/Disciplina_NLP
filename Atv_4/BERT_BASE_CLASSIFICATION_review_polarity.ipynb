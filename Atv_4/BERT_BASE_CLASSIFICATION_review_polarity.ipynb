{
 "cells": [
  {
   "cell_type": "markdown",
   "metadata": {},
   "source": [
    "# Importar as bibliotecas necessárias"
   ]
  },
  {
   "cell_type": "code",
   "execution_count": 1,
   "metadata": {},
   "outputs": [
    {
     "name": "stderr",
     "output_type": "stream",
     "text": [
      "2025-02-03 11:59:09.822586: E external/local_xla/xla/stream_executor/cuda/cuda_fft.cc:477] Unable to register cuFFT factory: Attempting to register factory for plugin cuFFT when one has already been registered\n",
      "WARNING: All log messages before absl::InitializeLog() is called are written to STDERR\n",
      "E0000 00:00:1738594749.838269  495286 cuda_dnn.cc:8310] Unable to register cuDNN factory: Attempting to register factory for plugin cuDNN when one has already been registered\n",
      "E0000 00:00:1738594749.843067  495286 cuda_blas.cc:1418] Unable to register cuBLAS factory: Attempting to register factory for plugin cuBLAS when one has already been registered\n",
      "2025-02-03 11:59:09.859473: I tensorflow/core/platform/cpu_feature_guard.cc:210] This TensorFlow binary is optimized to use available CPU instructions in performance-critical operations.\n",
      "To enable the following instructions: AVX2 FMA, in other operations, rebuild TensorFlow with the appropriate compiler flags.\n"
     ]
    }
   ],
   "source": [
    "import torch\n",
    "import numpy as np\n",
    "import pandas as pd\n",
    "import matplotlib.pyplot as plt\n",
    "import seaborn as sns\n",
    "\n",
    "from datasets import Dataset, DatasetDict\n",
    "from transformers import BertTokenizer, BertForSequenceClassification, Trainer, TrainingArguments\n",
    "from sklearn.metrics import accuracy_score, f1_score, confusion_matrix, classification_report\n"
   ]
  },
  {
   "cell_type": "markdown",
   "metadata": {},
   "source": [
    "# Carregar base de dados"
   ]
  },
  {
   "cell_type": "code",
   "execution_count": 2,
   "metadata": {},
   "outputs": [
    {
     "name": "stdout",
     "output_type": "stream",
     "text": [
      "         file_name                                               text class\n",
      "0  cv145_12239.txt  it was once said that in order to truly enjoy ...   neg\n",
      "1  cv745_14009.txt  conventional wisdom among collectibles retaile...   neg\n",
      "2  cv376_20883.txt  robin williams has the rarest of gifts : the a...   neg\n",
      "3  cv109_22599.txt  nearly every film tim burton has directed has ...   neg\n",
      "4  cv494_18689.txt  you know , i never really wondered what the ta...   neg\n"
     ]
    }
   ],
   "source": [
    "# Carregar o CSV\n",
    "df = pd.read_csv(\"/home/fernando/Disciplina_NLP/Atv_4/data/review_polarity.csv\") # Substituir pelo caminho correto\n",
    "\n",
    "# Exibir as primeiras linhas para verificar o formato\n",
    "print(df.head())"
   ]
  },
  {
   "cell_type": "markdown",
   "metadata": {},
   "source": [
    "# Dividir a base de dados"
   ]
  },
  {
   "cell_type": "code",
   "execution_count": 3,
   "metadata": {},
   "outputs": [
    {
     "name": "stdout",
     "output_type": "stream",
     "text": [
      "train: 1400 exemplos\n",
      "validation: 200 exemplos\n",
      "test: 400 exemplos\n"
     ]
    }
   ],
   "source": [
    "# Garantir que o dataframe tenha as colunas esperadas\n",
    "df = df.rename(columns={\"text\": \"text\", \"class\": \"label\"})  # Ajuste conforme necessário\n",
    "\n",
    "# Converter para Dataset do Hugging Face\n",
    "dataset = Dataset.from_pandas(df)\n",
    "\n",
    "# Divisão entre treino (70%), validação (10%) e teste (20%)\n",
    "train_test_split = dataset.train_test_split(test_size=0.3)\n",
    "test_valid_split = train_test_split[\"test\"].train_test_split(test_size=2/3)\n",
    "\n",
    "dataset_final = DatasetDict({\n",
    "    \"train\": train_test_split[\"train\"],\n",
    "    \"validation\": test_valid_split[\"train\"],\n",
    "    \"test\": test_valid_split[\"test\"]\n",
    "})\n",
    "\n",
    "# Verificar o número de exemplos em cada conjunto\n",
    "for split in dataset_final:\n",
    "    print(f\"{split}: {len(dataset_final[split])} exemplos\")\n",
    "\n"
   ]
  },
  {
   "cell_type": "code",
   "execution_count": 4,
   "metadata": {},
   "outputs": [
    {
     "name": "stdout",
     "output_type": "stream",
     "text": [
      "\n",
      "🔹 Exemplos do conjunto TRAIN:\n",
      "\n",
      "Texto: if beavis and butthead had a favorite movie , from dusk till dawn would probably be it . scripted by quentin tarantino and directed by robert rodriguez ( desperado ) , the movie panders to the very worst in sex and violence -- and is incredibly fun to watch . it starts off as a pulp fiction-type crime story , with criminal brothers george clooney and tarantino robbing a convenience store . because this is a tarantino movie , however , it's not just a case of pull the gun and take the loot , it's a case of a hole being shot through someone's hand , a man on fire jumping out behind the counter and the entire store blowing up as they drive away . the opening scene sets the tone for the rest of the movie -- everything overdone and nothing as it seems . clooney and tarantino bring a hostage to the motel and then hijack an rv with a family in it . harvey keitel plays the backslidden ex-preacher and juliette lewis his daughter , whom registered sex-pervert tarantino eyes endlessly . you know you're mentally unbalanced when you find lewis the least bit attractive , although she's not nearly as obnoxious as usual in from dusk till dawn . the first half of the movie has the criminals and hostages trying to get to and through the mexico border , clooney's strategy involving hiding in the rv shower while lewis is on the toilet . it does its trick ; the border guard takes one look at lewis relieving herself and immediately goes blind , never noticing clooney or tarantino . once they get to mexico , it's time to wait at the rendezvous point , a topless bar called titty twister where we're once again reminded tarantino wrote the movie as he drinks champagne off the foot of a stripper . finally , after about ten minutes of intercut boob shots and clooney forcing keitel and lewis to drink with him , the stripper turns into a vampire . soon half the people in the bar are vampires and the other half fall or fight back . that's right , we've come all this way to see a vampire movie . but like everything else , tarantino takes this age-old genre and twists it to his own ends to produce over-the-top entertainment . so we get holy water condom balloons , heads rolling , quadruple impalement on an overturned table and keitel getting bitten by a vampire and announcing he only has a few minutes left before he becomes \" a lap dog of satan . \" the from dusk till dawn dialogue is 100% tarantino , hovering between absurd and disgusting ( as when they're entering the nightclub and cheech marin announces the main attractions of the titty twister ) , but always entertaining , and is a huge reason the movie is so much fun to watch instead of being one more second-rate gorefest . clooney , keitel and especially tarantino are so over-the-top with their delivery that the dialogue is that much more hilarious , ensuring not one second of from dusk till dawn is taken the least bit seriously . stuff like this would be terrible in any other movie , but tarantino and rodriguez know exactly what to do to entertain people , even if there's absolutely no message or meaning to from dusk till dawn . pulp fiction had the vulgarity and violence for a reason , but this movie just throws it out for cheap entertainment . from dusk till dawn isn't the classic of modern cinema that pf is , but is does prove you can do a good job making a really bad movie . \n",
      "Label: pos\n",
      "\n",
      "Texto: susan granger's review of \" ghosts of mars \" ( sony pictures entertainment ) horror auteur john carpenter ( \" halloween , \" \" vampires \" ) strikes out with this sci-fi eco-fable that's so bad it boggles the mind to imagine how the project ever got green-lit . the script by carpenter and larry sulkis appears to have been lifted directly from last year's \" pitch black , \" involving a violent prisoner who must be released from bondage so that he can help a small band of humans protect themselves from blood-thirsty , marauding aliens . in the year 2176 , there are 640 , 000 earthlings on mars , living in a matriarchal society led by a commander , played by pam grier . grier , pill-poppin' natasha henstridge , and some rookie mars police officers ( clea duvall , jason statham ) travel to the remote mining town of shining canyon to fetch \" desolation \" williams - that's ice cube - to bring him back to chryse city to stand trial for murder . but when they're besieged by demented , zombie-like , body-snatching miners , they readily free the scowling ice cube since they need him for protection . it seems a red cloud was released from a shining canyon cave and , soon after , most of the miners went bonkers as long-dormant remnants of an ancient martian civilization took over their minds and bodies , lopping off heads as \" vengeance for anything that tries to lay claim to their planet , \" according to a scientist ( joanna cassidy ) . carpenter uses so many flashbacks to tell the \" night of the living dead \" -like story that the idiotic plot gets incomprehensibly confusing . but you can easily predict each of the supporting characters who will be killed , along with the order of their elimination . on the granger movie gauge of 1 to 10 , \" ghosts of mars \" thuds to a laborious , bottom-of-the-barrel 1 . perhaps , indeed , there is a curse on mars films , if you recall two other duds : \" mission to mars \" and \" red planet . \" \n",
      "Label: neg\n",
      "\n",
      "Texto: felix ( sami bouajila , \" the siege \" ) lives a contented life with his boyfriend daniel ( pierre-loup rajot ) in the little town of dieppe in northern france . when he is laid off from his job , after discovering the address of the father who abandoned him before he was born , he decides to journey to marseilles , in the south , to find the man he never met in \" the adventures of felix . \" writers/directors olivier ducastel and jacques martineau made their debut with the musical comedy \" jeanne and the perfect guy , \" embracing that typically american genre . their second effort , \" the adventures of felix , \" once again borrows from america with a tale of a young man who hits the road to find himself . felix is happy with his life in dieppe , but when the ferry company he works for falls prey to the economics of the chunnel , he is out of a job and at loose ends . when he goes through his late mother's papers he learns that the father he never knew is living in marseilles , hundreds of miles away . felix makes the snap decision to journey to the south , puts together a supply of \" cocktails \" for his hiv virus , kisses daniel goodbye and heads off on foot . he refuses to use trains and wants to avoid big cities as he hitchhikes across france to find his destiny . along the way , a series of chance encounters with various strangers teaches felix that family is not always made up of blood relations . on the road , he witnesses a race-related mugging that turns into murder and , frightened for his own safety , runs away without telling the police . following this harrowing experience , he has his first chance meeting that begins the unconscious construction of his ideal family . his journey brings him to rouen , and the film's first title section , \" my little brother , \" where he meets jules , a young art student who becomes smitten with felix . they steal a car and develop a chaste , brotherly affection before felix must move on . he next meets elderly mathilde ( patachou ) , in the chapter titled \" my grandmother , \" and soon learns that she , too , has a fondness for the same tv soap opera that felix has grown addicted to . she wants him to stay with her , but he must continue on his way to find his father . in the weakest chapter of felix's road trip , titled \" my cousin , \" he meets a railroad worker ( philippe garziano ) and has a brief sexual encounter before heading off , once again , toward marseilles . he next helps a stranded lady motorist , isabelle ( ariane ascaride ) , and shags a ride with her and her three kids ( each with a different daddy ) in the sequence titled \" my sister . \" he is torn by the inner turmoil of not going to the police about the murder he witnessed and isabelle comforts him just as a sister would . on the final leg of the journey titled \" my father , \" he meets an older man , a fisherman ( maurice benichou ) , who enlightens him about the real facts of life and family while they fly felix's kite , just like a father and son .  \" the adventures of felix \" has a number of things going for it as we follow felix on his journey of discovery . first and foremost is the charming performance by sami bouajila as felix . he is a likable guy , fighting his hiv with his doses of \" cocktails , \" and lights up the screen as he makes the long walk , often with dance and song , to find his father and himself . as he encounters each member of his new family , promising each that he will send a postcard when he arrives at his final destination , he grows a little bit more spiritually and emotionally . bouajila does a terrific job holding center stage on the screen . the cast of characters making up felix's new-found family are nearly as charming as the star , each in their own way . patachou , especially , is wonderful as the grandma character and a kindred spirit to felix . ariane ascaride , along with her kids , gives a perf that really makes you think of her as the sister that the young man never had . only the \" cousin \" chapter lacks the emotional depth of the rest and feels like a perfunctory addition to felix's \" family . \"  \" the adventures of felix \" does not reinvent the road movie , but it does provide a charismatic telling of a young man's journey to find himself and , to his surprise , his discovery is dramatically different than he expected at the beginning . it helps that cinematographer matthieu poirot-delpech's crisp lensing compliments the story perfectly as felix moves across the french countryside . i give it a b+ . \n",
      "Label: pos\n",
      "\n",
      "Texto: this is my first review that i post to this newsgroup , and i kind of feel like i have to say something negative about this film . no one else seems to care that it takes certain liberties that should not be taken with a historical story . however , even if one thinks of it as fiction , \" the prince of egypt \" remains shallow . but i'll begin from the beginning . the biggest difference between the original , biblical story and this version is that moses has some semblance of divinity in the bible , whereas the animated version gives the impression of a reluctant hero . maybe it's just me , but if i knew i had god on my side , i'd have a little bit more confidence . there are other differences as well , such as a lack of important female characters and the passing over of the original pharoah's death like it's nothing but a thing . most of all , though , the story's focus has shifted . rather than being a story about father-son , man-ethnicity , man-god , \" the prince of egypt \" is almost solely about the brother-brother relationship between rameses and moses . i was originally excited about this story element until i saw the movie , where it came off as maudlin . rameses and moses squabble like children and then , in the interests of peace , moses saves rameses' butt , even though moses was the one who started it . . .  * yawn * i didn't care anymore by the time moses ran off for murdering an overseer ( which , of course , never happened in the original story - moses was exiled ) . but enough about the differences . let's talk about the movie itself . it features a moses who , in the interests of making the character more human , lacks any divinity whatsoever , which isn't convincing at all to anyone who knows who god is . it features a cookie-cutter \" i-wanna-please-dada \" rameses , who at least is given dignity by the voicework of ralph fiennes ( from schindler's list , among other things ) . the film also features an extremely annoying character by way of the \" new-improved \" miriam , voiced by the ever-antsy sandra bullock , even though the most irritating thing about her is her tendency to burst into song for no apparent reason ( here bullock is replaced by a singing voice ) . speaking of which , it contains * very * annoying music . it contains shallow writing . it features extraordinary animation , which is one good thing i can say about this film . most of all , it contains an attempt to commercialize , homogenize , and mass-market a story about a manifestation of god . i am not christian , but i got the impression of blasphemy . the writers and producers took a butcher knife and chop-chopped into the story . \n",
      "Label: neg\n",
      "\n",
      "Texto: an american werewolf in paris is a failed attempt to recapture the humor and horror of john landis' 1981 feature , an american werewolf in london . where the original had comedy , the sequel has the kind of revolting silliness that can be found in tv sit-coms . where the first installment had chills , this one has sequences that are inappropriately , unintentionally funny . in short , while an american werewolf in london has become something of a minor classic in its genre , the woeful an american werewolf in paris seems destined for late nights on cinemax ( it even has the necessary gratuitous nudity ) . the film opens with a trio of daredevil americans -- andy ( tom everett scott ) , brad ( vince vieluf ) , and chris ( phil buckman ) -- sneaking up to the top of the eiffel tower to drink wine and do a little bungee jumping . soon they have company in the person of serafine ( julie delpy ) , who has decided to end it all . she jumps , but andy , with a bungee cord attached , goes after her , and manages to save her ( at the price of a major headache ) . serafine disappears , but a smitten andy seeks her out . however , once he learns his would-be girlfriend's dark secret , he wishes he hadn't . she's a werewolf , cursed to change into a hideous beast when the moon is full , and , to make matters worse , he has suffered a nasty bite himself . actress julie delpy is far too good for this movie . she imbues serafine with spirit , spunk , and humanity , which gives us an emotional stake in the character's fate . this isn't necessarily a good thing , since it prevents us from relaxing and enjoying an american werewolf in paris as a completely mindless , campy entertainment experience . delpy's injection of class into an otherwise classless production raises the specter of what this film could have been with a better script and a better cast surrounding her . delpy's previous credits include such memorable ventures as krzysztof kieslowski's white and richard linklater's before sunrise . she was radiant , charismatic , and effective in both . given the nature and level of the material she has to work with here , she gets as close as possible to those adjectives . it could be argued that delpy is the only reason to see an american werewolf in paris , but even her most devoted fans should consider giving this one a miss . and if your primary objective is catching a glimpse of her in the buff , check out either killing zoe or the passion of beatrice -- those movies have intelligible plots in addition to breasts . the rest of the cast acts at a level considerably below that of delpy -- which is to say , they give performances appropriate for the screenplay . tom everett scott ( that thing you do ) plays the lead like he's in a made-for-tv movie . it would be kind to call him bland . actors vince vieluf and phil buckman , as andy's friends , are no more impressive . julie bowen ( happy gilmore ) is suitably fetching as werewolf meat . and respected french actor thierry lhermitte has a brief turn as another monster meal . on the technical side , it's all bad news . the computer-generated werewolves look painfully unreal . the creatures would probably have been more believable had they been men in wolf suits . repeated use is made of the \" werewolf cam \" , an infrared wolf's point-of-view approach that's interesting the first couple of times it's employed , then becomes tedious . and the soundtrack includes some alternative grunge rock tunes that clash violently with the on-screen action they're matched to . director anthony waller , who displayed a confident , edgy style in mute witness , stumbles with this material , never being able to make the comedy and horror elements gel . as a result , we get the worst werewolf sequel since the howling ii : your sister is a werewolf .  ( i will give waller credit for killing off a dog , though -- something that's rarely seen in movies these days . ) an american werewolf in paris is marginally entertaining in a \" bad movie \" sort of way , but that's a dubious distinction . ultimately , it's an unfortunate effort , for , while it isn't unbearable to sit through , it isn't a howl , either . \n",
      "Label: neg\n",
      "\n",
      "\n",
      "🔹 Exemplos do conjunto VALIDATION:\n",
      "\n",
      "Texto: sometimes i find 19th century british costume dramas a little hard to relate to . it's not the time or the distance , it's the rules and conventions of a social class that deserves resentment rather than sympathy . yet somehow , the movies are all well made and i always get caught up in the story . the wings of the dove fits the pattern . kate ( helena bonham carter ) and merton ( linus roache ) are in love . merton , a newspaper writer , would like to marry kate . but kate's \" job \" , if you will , is to be a member of the british upper class . her father lost all of her family's money , but a wealthy aunt agreed to take care of her until she married a nice rich man . naturally , a newspaper writer's wages don't count as \" rich . \" kate leads him on , but she always ends up giving him the cold shoulder , ultimately because he's not marriageable . kate's american friend millie ( alison elliot ) stops in for a visit on her way to venice . at a party , millie catches a glimpse of merton and likes what she sees . kate realizes that if merton were introduced to millie , he might forget about her . it appears that she is trying to spare him from the heartbreak of their inevitable breakup . merton sees what kate is doing and resents her for it . he is still in love with kate , and will accept no substitute . the three of them , along with a fourth friend ( elizabeth mcgovern ) end up on holiday in venice together , where their interactions are quite complicated . let's sum up : millie has fallen for merton . merton has no feelings for millie because he is still in love with kate . kate loves him but can't marry him , so on the one hand she's trying to match him up with someone who will make him happy , but on the other hand she's jealous of them as a couple . a clear solution presents itself to kate when she realizes that millie is very sick - dying , in fact . at this point she decides that merton should marry millie until she dies . millie will leave her money to merton , who will then be rich enough to marry kate . she lets merton know of her schemes and , since it will help him win kate , he reluctantly agrees . kate leaves venice so that the two m's can be alone together . merton finds that pretending to love millie is a lot like actually loving her . he's not sure he can separate the two . kate finds that she's not so sure she really wants her merton falling in love with and marrying anyone else . the brilliant scheme proves to be painful to all involved . without revealing the details , suffice it to say that the situation ends badly . the title refers to the object of merton's vain hope that something might lift him from his predicament . one is left with feelings of regret and despair . what started as such a promising relationship was damaged by greed , anger , and jealousy . an interesting thought struck me after the movie was over , and that is that the wings of the dove almost fits the story line of a film noir . a couple conspires to cheat someone out of their money so they can live happily ever after . their involvement in the deception makes each less attractive to the other , and after a few things go wrong , the whole idea seems like an awful life-ruining mistake . i wouldn't call the wings of the dove a film noir , but the comparison is interesting . as i have acknowledged before , i am not a wonderful judge of acting , but i liked the performances from roache and elliot . roache successfully conveyed his character's ambivalence toward millie : near the end , he hugs her , at first staring into space , as if he's thinking about his plan with kate , then giving that up to fully embrace millie . millie's part didn't require as much range , but elliot gave her the necessary bubbly personality that made her irresistible . i will probably file away the wings of the dove in the same low-traffic corner of my mind as sense and sensibility and persuasion . their settings are far removed from my personal experience - geographically , historically , and socially . still , the movies are well made and the stories inevitably win me over . \n",
      "Label: pos\n",
      "\n",
      "Texto: the rocky horror picture show 'special edition' ( 1975 ) starring : tim curry and susan sarandon cult films are never mainstream . the casual viewer of a cult film will look at it and be repulsed and confused , yelling out 'what the hell is that ? ' . fans of these sorts of movies will be laughing at every other second at all the 'hidden jokes' they missed the first time around while normal movie watchers will look at them like they're insane . the rocky horror picture show , recently re-released in a 'special edition' to video , is the mother of all cult films . period . like some other cult films , most notably little shop of horrors , the rocky horror picture show is a musical with a twisted edge to it . this movie begins out innocently enough- a couple get engaged at a friend's wedding and get a flat tire in the middle of the night while it's raining . they go to a castle to try to use the phone . little do they know that the castle is owned by dr . frank n . furter , a mad transexual transvestite scientist who has recently created a creature he will use for personal reasons . the acting is pretty good overall . tim curry ( home alone 2 , legend ) is over-the-top as frank n . furter . it's interesting to see that this movie was one of future oscar winner susan sarandon's ( dead man walking ) first film- she plays janet , the girlfriend of brad majors . even the singer meatloaf is in it ! ! the songs are all very good yet twisted in their own way . a sampling of titles range from damn it , janet to touch-a touch-a touch-a touch me . all the actors sing their songs with no dubbing from other actors- kind of a bad thing . barry bostwick ( brad majors ) tries to sing as does susan sarandon , but tim curry is clearly the most professional having extensive stage experience . meatloaf sings like meatloaf . the new special edition contains two original movie trailers of the film as well as two songs deleted from the original version . sadly , the songs are tacked after the credits- kind of defeats the purpose . if you want to see a different film , watch this one ! ! \n",
      "Label: pos\n",
      "\n",
      "Texto: when i watch a movie like mike nichols' what planet are you from ? i can't help but feel like everyone is looking at me . it's as if all the audience is gazing at the back of my head in the darkness , eyes shooting daggers , quietly blaming me for the fact that they paid hard-earned money to spend their time watching this . . . this . . . thing . i shift uncomfortably in my seat . i'm reminded of how i feel when i see a pair of second- or third-rate celebrities engaging in a teleprompted \" funny \" conversation to introduce the next blockbuster award . it's not my fault , i know it's not my fault , but dammit , someone's gotta be embarrassed , because it doesn't look like anyone on the screen is ready to take the blame . i'm about to give you a list of names of people who are gonna make a movie together : garry shandling , annette bening , john goodman , greg kinnear , mike nichols . do any of these names make you instantly shudder ? the answer i would have come up with before today is no , this is quite a list of talented individuals we've got here . granted , john goodman was in the flintstones , and greg kinnear has turned in some less-than-lackluster leading man performances in certified failures like a smile like yours , but even so , they've got proven power as excellent supporting players . garry shandling has two television classics under his belt , his ingenious little it's garry shandling's show and the larry sanders show . and for god's sake , mike nichols directed the graduate , and annette bening is just walking away from american beauty . so explain this . . . this . . . thing . what planet are you from ? purports to be a comedy exploring the relationship between men and women satirizing the whole pop-psychology mars/venus phenomenon . but what this movie winds up being is a collection of unfunny cringe-inducing moments coupled with uninsightful cringe-inducing moments ; the end result is , unsurprisingly , an unfunny , uninsightful , cringe-inducing , thoroughly icky embarrassment . garry shandling plays an alien from a planet populated by technologically advanced but emotionally vacant males ( they reproduce through cloning , of course ) . his leaders put a select group of males through a series of tests designed to determine which one is most fit to fly off to earth , find a female of the species , and impregnate her . they're taught how to pretend that they're listening by nodding and saying \" uh-huh , \" and how to compliment shoes . imagine my delighted surprise when , oh heavens , all their carefully practiced tactics turn out to fail miserably , producing comedic results ! the lucky winner is fitted with a penis ( since theirs , after generations of disuse have long since shrunk out of existence . . . i will restrain myself from mentioning the implausibility of such a scenario since the population has stopped evolving due to the fact that they're all just clones . . . whoops , too late . ) the penis , when aroused , tends to make a humming noise . the writers , when frequently strapped for ideas , tend to turn to this as a source of \" comedy . \" it isn't funny the first time . it isn't funny the eighth time . it isn't funny the eighteenth time . if anything , it made me feel vaguely self-conscious . garry meets up with a coworker at a bank played by greg kinnear , who turns out to be a generic , unlikable scumbag . he's meant to fill the part of unfortunate role model for shandling's alien character , but he's so flatly drawn that even the writers quickly give up and toss him aside . kinnear's scumbagginess is demonstrated by the fact that he claims other peoples' work as his own to worm his way into a vice presidents' position and goes to aa meetings to pick up chicks . wow . what a magnificent bastard . nearly every man in the movie , in fact , is played as the same sort of sex-driven slimeball . when kinnear's wife walks into the office , there isn't a single guy who doesn't trip , bump into a wall , or otherwise pratfall as if they'd never seen a woman before . the few guys that aren't particularly slimeballs , such as john goodman's detective character , are simply uncommunicative workaholics . shandling meets up with annette bening , who will inevitably prove to be the love he never knew existed , at one of kinnear's aa meetings . shandling's mission is to have a baby , and when he reveals his desires to her , bening instantly falls for him , and the next day . . . they get married . yup . the next day . cuz ya see , it turns out she wants a baby too ! bening's character perhaps was the most difficult to watch , especially after seeing her come apart at the seams so effectively in american beauty . . . if her character here is supposed to be representing the female of the species as a whole , then woe , i say , to the species . she's unfathomably insecure , and succumbs so easily to all of shandling's lines and lies that it borders on tragic . there's a point where , after thinking she may not be able to bear children , she learns that she is indeed pregnant . when garry comes home after nearly cheating on her , she strolls into the kitchen and sings \" high hopes \" ( you know , the uplifting ant and the rubber tree plant song ) to deliver the news , and then says to him , \" now you can't leave me . \" we're supposed to empathize with shandling's discovery of the feeling of \" guilt , \" but instead i wanted to weep for bening that she was placing her entire life and soul firmly in the lap of a great big nothing . and eventually , shandling falls in love with her . . . for real , i suppose , though i'm not sure exactly what prompted it . what's the message i derive from all this ? men are liars , inherently empty creatures , but if you hang around long enough . . . well , maybe something will click . ha ha . . . ha ? i'm thankful such broad cynicism isn't frequently allowed to run so rampant . let's all join hands and pray that the planet these folks are from is not this one . there's also a subplot involving john goodman as an airline incident investigator that wades in the bog of stupidity . goodman , through a series of astoundingly implausible realizations , puts together the fact that shandling is a being from another world with a magic , vibrating penis . it has all the makings for a subplot of having shandling be discovered , that , thankfully , never comes to the inevitable hackneyed fruition . instead , it just dangles limply on the branch for a while , withers , and falls away . further proof that goodman should just stick to doing coen brothers movies . but let's not dwell on this any longer , i've already wasted plenty of your time and my own . let's move on , forget about what we've seen here , and get on with our lives . and to help us out , let's end things on a happy note . . . congratuations go out to annette bening , winner of this week's \" title ! \" award , for delivering the awkward line of dialog containing the movie's name . \n",
      "Label: neg\n",
      "\n",
      "Texto: john carpenter directed this stylish and gory vampire flick to which has it's good side and it's bad . it's held up by some good performances and dazzling special effects leading up to an ending that's pretty satisfying . james woods gives an outstanding performance that almost covers up the movie . the good side : some neat scenes of vampires and violence . the bad : no scares . yes that's right , even though being directed by one of horror's most cherished directors , 'vampires' is the least bit scary , if not at all . james woods stars as jack a vampire hunter out to stop the plans of the 'master' vampire valek played by thomas ian griffith whom wants vampires to walk in the daylight . daniel baldwin plays his sidekick montoya , a wise-cracking guy who really isn't that funny . in the opening scene jack along with montoya and the team of vampire hunters , find an abandoned house to which vampire occupy . of course we all know sunshine kills vampires , and that is just how they kill these vampires : hooking them to ropes and dragging them outside letting them burn to death . after throwing a party for what happened , the vampires that did not die come back to trash it . they kill almost all of jack's team , leaving only a few alive . sheryl lee plays a prostitute katrina who was bitten by valek , but not yet turned into a vampire . she is rescued by jack and ? flees with them on their search for valek . they have to fight they're way against vampires , leading up to a finale that is well-done with great special effects . 'vampires' definately could have been done better . the make-up , special effects and story are first rate , but there is no scares or terror that the film could have had . it to me had more humor than horror , almost being compared to 'fright night' with the mix of violence and comedy . john carpenter does a great job of directing this film . he eases through some tough times and saves the flaws , which are noticeable but forgettable . the script is clever and funny , with many lines that make us laugh out loud . i much enjoyed 'vampires' with a few exceptions . it's one of those films you see but don't take to heart . you enjoy the time you spent and go on . the recently released 'psycho' is the same way , it's not as good as you'd hope but it is fun and entertaining . 'vampires' is a good horror flick with no scares but plenty of other content to please the viewer . \n",
      "Label: pos\n",
      "\n",
      "Texto: warren beatty , diane keaton , goldie hawn and gary shandling star as a pair of married couples whose complacent lives are about to be shaken up in director peter chelsom's version of the classic romantic , screwball comedy in \" town & country . \" the drawing room farce of the 30's dealt with sexual innuendo and relied on wit and a great deal of commotion and noise to place the viewer in the thick of the duplicitous romantic action . back then , impossibly wealthy scions of society , with too much free time , would get themselves wrapped up in all sorts of sexual peccadilloes with spouses and lovers , only to have everything come out all right in the end - see \" the philadelphia story \" for a great farce .  \" town & country \" has the impossibly wealthy protagonists with too much free time - the kind of people that have jobs but never seem to work - and sexual misconduct on several levels . but , there is almost no life to original script by michael laughlin and buck henry and this is \" t&c's \" downfall . there is , obviously , a great deal of hollywood talent , in front of and behind the camera , involved in \" town & country , \" but , without a likable or , at least , interesting story to carry through their efforts , it is all for naught . and , that's what we get here - naught . porter stoddard ( beatty ) is a high-powered new york architect with a very good life indeed . his 25-year marriage to ellie ( diane keaton ) appears , on the surface , to be perfect . but , there are cracks just below this pristine surface . his wife is suspicious of his whereabouts , his kids don't need him and his best friends , griffin ( garry shandling ) and mona ( goldie hawn ) , are in the midst of a divorce . porter tries to get control of his life before it is too late , but like a man fighting against quicksand , his struggle just sinks him deeper . at the 90-minute mark of \" town & country \" i asked myself , \" what's the point ? \" i wasn't entertained , i laughed three times - over silly little pratfalls - and spent most of the film marking time 'til the end . warren beatty wanders around with his character in a bewildered fog , making problems for himself by thinking with a part of his anatomy other than his head . keaton's ellie is an empty headed flake who can't see the obvious as porter screws around on her . and , as you get to know them , who would want friends like griffin and mona ? the supporting cast is given nothing to do and , sometimes , does harm to the film , given the material they are forced to use . nastassja kinski plays a cellist with whom porter has a fling . the actress , who has , eerily , failed to age over the years , is miscast as the air-headed musician and the character doesn't belong , anyway . jenna elfman is a sweet , but smart , ditz who joins porter and griffin on one of their tacked on misadventures . andie macdowell is absolutely painful to watch as a wealthy heiress ( is there any other kind in this movie ? ) who comes on to porter . the saving grace is a pair of quirky perf's by charlton heston and marian seldes as macdowell's very strange parents . glib rationalization of infidelity , like , \" if he doesn't speak english , it doesn't count , \" are a staple for the screenplay . the morality of the film seems to be , if you can get away with it , go for it . the cast of characters are mostly people you wouldn't want to know , never mind befriend . the actors do their best , but are hamstrung by the weak material . helmer chelsom , who made the outstanding , offbeat comedy \" funny bones , \" is mired in the mess of a script and never puts his imprint on \" town & country . \" the production values are high , as one expects from a big budget hollywood film . but , the opulent sets by caroline hanania , lavish wardrobes by molly maginnis and top-notch photography by william fraker cannot save \" town & country . \" the film has had a long list of production and distribution problems and it might have been better , for me anyway , if hollywood just said no to this movie . i give it a d . \n",
      "Label: neg\n",
      "\n",
      "\n",
      "🔹 Exemplos do conjunto TEST:\n",
      "\n",
      "Texto: synopsis : captain picard and the crew of the starship enterprise disobey federation orders and defend a peaceful community of 600 , the ba'ku , from the evil admiral dougherty and ru'afro . the enterprise crew , in the meantime , experience the rejuvenating qualities of the ba'ku homeworld : lt . worf grows a pimple , data sings opera pieces , picard scores with a ba'ku chick , riker shaves while sharing a bubblebath with troi , and the enterprise women note their firmer breasts . comments : \" star trek : the next generation \" was a hugely successful sequel tv series to \" star trek , \" a science fiction series which developed a devoted fan following in the 1970s . even though it still enjoyed high ratings , \" star trek : the next generation \" ended production after seven years so that the cast could replace the original \" star trek \" 's cast in paramount's film franchise centering on the voyages of the starship enterprise . star trek : insurrection is the ninth \" star trek \" movie and the third to focus on the \" star trek : the next generation \" crew . star trek : insurrection qualifies as one of those movies star trek fans , such as myself , would rate somewhere between \" okay \" and \" good . \" after star trek v : the final frontier , a nearly awful movie almost as bad as the repugnant \" star trek : voyager \" tv series , \" star trek \" fans could probably swallow anything paramount throws out in the trek film franchise . i don't wish to spend this review comparing insurrection to the eight other trek movies . most people reading this probably haven't followed \" star trek \" anyway , so a comparison would seem tedious at best . let me , thus , make my comparisons briefly so that it's out of my system : star trek : insurrection is not as good as the previous installment , star trek : first contact ; star trek : insurrection's comic tone may be best compared to star trek iv : the voyage home ; star trek ii : the wrath of khan is still the best trek movie . okay . let's move to the movie itself . star trek : insurrection infuses a basic science fiction premise , humanity's exploration and colonization of space , with a lot of lowbrow humor and witty oneliners . this combination works well more often than it fails , but when it does fail , the humor really seems cheesy . much of this film appeals to trek fans' nostalgic fondness for the starship enterprise's crew . audiences unfamiliar with trek lore may miss the significance of some plot points and may even become confused at times . star trek : insurrection begins with scenes of the tranquil life on the ba'ku homeworld . forget the actors and special effects , the beautiful setting of this movie , with its snowy mountaintops and verdant valleys , steals the show . this tranquility , however , is broken by data , an android , who reveals to the ba'ku that they are being secretly monitored by the federation and their alien allies , the son'a . it seems that this world is a veritable fountain of youth , sustaining its inhabitants indefinantly in a young , healthy state . the enterprise crew , led by captain picard , investigates data's actions and uncovers a conspiracy between the son'a and an enterprise admiral to relocate the ba'ku and plunder the planet's youth-restoring properties . sound pretty heavy ? it is , though this plot , anything but unique and groundbreaking , is undermined by the film's constant barrage of humor . when going after data , for instance , picard sings an opera piece with him ( this is supposed to be cute and humorous ) . in a much more funny sequence , work grows a large pimple on the side of his nose as a result of his exposure to the ba'ku homeworld , a pimple which his crewmates , try as they might , cannot avoid looking at . the acting in star trek : insurrection is , for the most part , pretty good . since they've been playing these characters for years , those portraying the enterprise crew reassume their roles effortlessly enough . the terrific actor patrick stewart plays captain jean-luc picard and delivers a moral speech , picard's trademark , with his usual aplomb . brent spiner , another fine actor , plays the android data well enough again and provides the best moments of comic relief in the film ( though the old android-wishing-to-be-human motif will tire some trek fans familiar with the routine from the tv series ) . the supporting cast who appear in this movie alone are also pretty good . despite many other critics' negative opinions , f . murray abraham ( the winner of an academy award for his performance in amadeus ) plays the major villain ru'afro well enough . ru'afro reminds me , somewhat , of the baron harkonnen in the 1984 film version of dune . like the baron , ru'afro continuously has his skin looked after : it is stretched and stapled by servants . in one particularly memorable scene , ru'afro becomes very agitated , and his facial skin splits open and bleeds . ru'afro is no khan from star trek ii--the best trek villain ever--but he is much better than the forgettable dr . soran from star trek : generations .  ( okay , i promise , no more comparisons . ) donna murphy must also be noted as a ba'ku woman , anij , who picard falls in love with . murphy is not a young woman with a supermodel body ; she is a mature woman with an attractive countenance . this is the type of woman whom picard , for those who know the character well , would be enchanted with . in fact , the chemistry between murphy and stewart works very well here . a particular plot point involving anij's ability to slow time down , an ability which she shares with picard , becomes one of the most intriguing parts of the movie . for as good as the actors and setting were , star trek : insurrection's special effects were surprisingly disappointing . they proved adequate , sometimes barely , for a 1990s mainstream science fiction film , but they fell way short of the standard trek movie and paled in comparison to those seen in the trailer for star wars : the phantom menace ( a trailer which reportedly preceded many showings of insurrection ) . the space battles involving the enterprise and sona ships , in particular , seemed trite and unsuspenseful , and the final confrontation between picard and ru'afro took place on a completely unconvincing interior of a satellite . the new enterprise itself , only seen in this film and its predecessor , remains largely unexplored , though its exterior doesn't look quite right for a reason i cannot explain . despite star trek : insurrection's frequent comic goofiness and occasional substandard special effects , i enjoyed the film . it maintains roddenberry's largely optimistic view of the future and rejects the gritty violence of its predecessors , particularly star trek : first contact ( though , don't get me wrong , the dark tones of trek films like first contact can work very successfully ) . i'd recommend insurrection as a matinee film for a saturday afternoon , especially for fans of trek or science fiction in general . rated pg , i can't see this film being objectionable to the viewing audience , young or old . \n",
      "Label: pos\n",
      "\n",
      "Texto: bruce willis is a type-casted actor . in die hard , he played john mcclaine , a rough and tough chicago cop who gets caught in the wrong place at the wrong time . again , in pulp fiction , as butch coolidge , an over-the-hill boxer , he steps on the wrong guys toes . in luc besson's the fifth element , willis plays korben dallas , a new york cabby who takes in the wrong passenger at the worst possible time . a stylish science fiction epic , the fifth element's complex plot begins right away , in the deserts of egypt ( think stargate ) in 1914 . an enormous spacecraft lands above a pyramid where the \" 5 elements \" are stored and takes them away , vowing to return them when the evil comes back . cut to present day , which is our future . the year is 2023 , and new york is the city . the only basic differences between besson's futuristic depiction and the real life new york is that the smog is thicker , the buildings are higher , and the traffic floats ! anyway , the \" evil \" comes back as a ball of fire to wreak havoc on the fair citizens of the earth , so back come the tortoise-like aliens to return the \" 5 elements \" to earth , in order to defend themselves against the \" evil . \" in the process , however , the ship is intercepted by 2 fighter pods and is destroyed before landing . when officials arrive at the site , all that remains is a hand . what can you do with a hand ? hey , its the 21st century here-dna reconstruction ! this hand turns out to belong to a beautiful , but mysterious woman named leeloo ( milla jovovich , dazed and confused ) . she escapes and , attempting to escape the police by swan diving off of an enormous skyscraper and crashing through the roof of korben's floating cab . it's love at first site , as korben and leeloo elude the lazy-as-always cops . when leeloo begins mumbling about a cornelius ( ian holm , night falls on manhattan ) , korben searches the \" yellow pages \" and delivers her to the door of the good reverend , the only man who knows of her background and duties . now , korben , leeloo , and cornelius must journey to a foreign planet to board a cruise ship ( special effects were spectacular here ) to find the remaining four elements . it is here , where they discover that they have been followed by the evil jean-baptiste emmanuel zorg ( gary oldman , murder in the first ) . he , too , wants possession of the elements , as do a group of pig-like warriors ( think the gamorreans in return of the jedi ) . in a spectacular ending , with time running out , leeloo is faced with a problem-why should she save a people who live to destroy each other ? the question is a good one , and one that could be pondered . but enough of that . when korben points out his love for her , leeloo is inclined to become the \" 5th element \" and save the world from total destruction . the fifth element features good performances by willis and holm , an excellent portrayal of a comedic villain ( who reminded me a lot of jack nicholson's the joker in batman ) by one of the masters of villainy , oldman , and a heartfelt offering by relative newcomer jovovich . the supporting cast , which includes brion james ( tango & cash ) , tim \" tiny \" lester ( no holds barred ) , luke perry ( buffy the vampire slayer ) , and chris tucker ( friday ) , added a comedic effect to the film . although besson's the fifth element can be criticized for the outlandish use of cliches , it is a solid motion picture with a definite point . some other directors ( like anaconda's luis llosa ) should take a lesson from this guy-using ideas from epic motion pictures the right way . ideas from star wars and stargate were utilized for the improvement of this film . sci-fi fan or not , any movie-lover should see this wonderfully stylish motion picture .  , \n",
      "Label: pos\n",
      "\n",
      "Texto: before you read my review , you gotta know that i love woody allen . this is a very important note because allen's films are generally an acquired taste and definitely not for everyone . i know folks who believe him to be a complete genius , while others see him as a dirty ol' schnook who keeps making the same movie over and over again . i love most of his films , but will admit to having been quite disappointed by his recent crop during the 90s . in fact , why he felt the need to make 10 movies in those 10 years is beyond me ! if you look at the quality of those films , you'll hear what i'm saying . the only two films of his that i really liked during that time were bullets over broadway and husbands and wives . in fact , i secretly hoped that he would take some \" time off \" at the turn of the millennium , just to re-energize or something , but it doesn't appear as though he has any intention of doing that . so here i am again , reviewing yet another woody allen movie and hoping that it brings back the woody from the days of old . plot : the year is 1940 and woody allen is a top-notch insurance investigator . his methods are very old-fashioned and apparently out of date . a new employee ( hunt ) has just been hired to streamline the operations for greater efficiency . the two do not like each other . one night , they are both put under a hypnotic trance by a magician , and unbeknownst to them , placed under his control . soon thereafter , jewels are stolen , words of love are exchanged and everyone is looking for an answer . critique : a wonderful recreation of the 1940s style movies , with the fast-talking witty banter between co-workers , a catchy jazz score moving things along , film noirish elements such as the veronica lake-type sexpot , one-liners galore and a fluffy , if inconsequential plotline . on the downside , the film actually starts off pretty slowly , with the first hour tossing only a few guffaws out there , but never really generating any kind of steady flow or energy . the sets , on the other hand , were amazing , the production design and costumes were perfect , and the casting ideal , so i kept hoping that the film would pick up and not turn into yet another mediocre outing for the man . but it wasn't not long before i was fully engaged by the characters , entertained by the many zingers delivered back-and-forth between allen and hunt , and actually interested in the resolution of the flick . i also appreciated how allen played the fine line between homage to the films of old , parody and actual reinvention ( note theron's entire female persona that is drenched in film noir- very cool ) . of course , films like this ( with little or no real tension in the plot ) need solid actors to keep you interested in the quick-fire dialogue , and once again , allen does a great job in playing his character , who for once , isn't his typical new york jewish neurotic cheating insecure husband dude . he actually plays a \" macho \" guy here and handles it pretty well , especially the scenes in which he's hypnotized . but the bigger surprise for me in this film was helen hunt , an actress who i was openly \" sick of seeing \" in movies late last year ( sorry babe , you were just in too many at the same time ! ) . anyway , she's really great in this film as the headstrong woman looking to a new era of equality amongst men , and doesn't miss a beat of allen's fast-paced dialogue . i didn't care much for her running joke about him \" dying \" whenever he left a room , but overall she was really good and i especially liked the way that her sweaters clung to her breasts as they did . . . yum , yum ! harumph , but i digress . so let's recap . a great looking picture with a nice jazzy score , some funny one-liners , especially in the second half , a decent plotline , although you shouldn't expect a real mystery or anything , and some solid acting all around . i can't say that this is even remotely close to any of allen's best work , but i certainly believe it to be a step in the right direction , especially after the dinky decade of films that he just went through . it's probably better geared towards allen fans more than anyone else , but i would still recommend this film to anyone looking for a cute , \" old-school \" kind of vibe , with chemistry between the leads , zippy dialogue and a satisfying conclusion . little known facts about this film and its stars : annie hall ( 10/10 ) - celebrity ( 5/10 ) - everyone says i love you ( 5/10 ) - husbands and wives ( 9/10 ) - mighty aphrodite ( 5/10 ) - small time crooks ( 7/10 ) - when harry met sally ( 10/10 ) - you've got mail ( 4/10 ) \n",
      "Label: pos\n",
      "\n",
      "Texto: this \" dumb \" cowboy blondie who thinks he is a `darn' good loverboy , decides to leave his dusty ol' town somewhere in texas and go to new york . he puts on his beloved cowboy attire and off he hops on the next new york coach . when he arrives to new york , he immediately sets out to play mr playboy thinking he is the best `darn' `stud' in the whol'o' new york city . obviously he fails . he meets the 'cripple' rico ( dustin hoffman , who is terrifically good ) in a bar . rico has a leg that is paralysed from the knee down , so he walks in a peculiar way . rico is a thief and wants to get some money off this 'rich' dumb cowboy . he cheats our cowboy out of $20 through a somewhat detailed routine and disappears . soon , our cowboy runs out of money : he gets kicked out of his hotel , and starts getting hungry . walking through the city , with \" everybody's talkin' \" playing in the background ( oh , and his prided techno transistor radio in hand ) , he spots rico in a cafe . rico , half-scared , pours out all the money in his pocket . 60 filthy cents . our cowboy , hungry , is forgiving . he is glad he found someone he knows . rico offers to make it up for him . and he invites him to his place . and what a filthy , cold place it is . our cowboy falls asleep instantly in the ( junk ) bed . when he finally wakes ( jumps ? ) up , he finds rico looking at him .  \" you wanna cup'a'coffee ? \" rico asks in his friendly , sleazy , somewhat-childish manner while he smokes on a ciggy .  \" what're you ? a goddamn faggot ? what do you want from me ? where are my shoes ? what did you do to them ? \" but all his doubts turn out to be unfounded . rico really has a heart . together , they live in the junk apartment and almost freeze to death . rico is convinced that the best place to be is florida , where the sun shines beautifully and there are lots of coconut trees . but he falls sick and is convinced that his cure is to go to florida .  \" we will soon be in miami \" is the last sentence uttered in this film and what a shocking , moving end of a film it is . the classic theme music : \" midnight cowboy \" helps bring about the feeling of attachment that most viewers will experience towards the end of the film . whether the attachment is to the two main characters or to their dreams , is probably as debatable as whether it was the acting or the direction that makes this film so memorable . \n",
      "Label: pos\n",
      "\n",
      "Texto:  * * * warning - the following review contains spoilers * * * cast : gary sinise , don cheadle , connie nielsen , jerry o'connell , kim delaney , tim robbins , elise neal , jill teed , jody thompson , bill timoney written by : jim thomas , john thomas and graham yost directed by : brian depalma running time : 115 minutes the first big event movie of 2000 turns out to be anything but . gary sinise stars as an astronaut who is removed from a mars mission when his astronaut wife , maggie ( kim delaney ) , becomes ill and passes away . don cheadle is then given the mission along with a russian couple and a young hotshot . when a strange whirlwind shot from the top of a mars mountain range attacks the crew of the mission , sinise and robbins convince their superior to let them , neilsen , and o'connell perform a rescue mission for whatever crew might be remaining . what they discover on the surface of the planet will dramatically change their lives forever ( although no one watching the film will come away profoundly affected ) . before i ever saw the film , i was aware of the promotional campaign with dr . pepper . every time i would see a bottle of the soft drink , the mission to mars logo was emblazoned upon it . little did i know that the plot would be taking a back seat to the product placement of the drink and several other products . dr . pepper saves the day at one point , and a dream sequence/flashback features jerry o'connell shoving m&m's in our face . these are but a couple of the ridiculous examples of product placement scattered throughout the film . clich ? s are also the order of the day with mission to mars . dialogue and character motivations are all lifted directly from countless other science fiction films that have all done it better and with more style ( even independence day , which lifted all of it's premises from other sci-fi films was better than this film , and i don't like independence day ) . films like 2001 : a space odyssey , the abyss , and close encounters of the third kind are all blatantly stolen from ( and poorly at that ) . there is even a sequence where a rover is traveling through a canyon , and i couldn't help but whisper \" u'tinni \" to myself and wait for a jawa to quickly hide in the rocks before the rover could get a glimpse of it . this film also features one of my all-time least favorite movie clich ? s : the \" he would have wanted you to have this \" moment , where one character gives another a trinket that yet another character is established as constantly having ( and is usually made fun of by the character who ends up getting all sappy over it later on ) . scenes like these always bother me when they come out of nowhere in regular films , but in a film as clich ? ridden as this , it is particularly irritating . ennio morricone's music is usually considered to be some of the best stuff in the projects he works on , but here it is dreadfully overbearing . his music sounds like it came straight out of a vincent price movie in certain scenes . at other times his music is unbearably over-dramatic . one sequence involving a daring spacewalk rescue is given a particularly cheesy sting when it is discovered that the grappling hook device used for the rescue won't reach its intended target . mission to mars is push button filmmaking to the greatest extreme . events are set into motion that are obvious to anyone who has ever seen a movie and seem like they are just there to evoke an emotional response in the audience . we are apparently supposed to be upset that tim robbins character removes his helmet in deep space and kills himself to save his wife , but i felt extreme boredom coupled with a twinge of disinterest . what makes it all worse is that fact that there is no real reason that robbins' character needs to turn himself into a popsicle , except to invoke an emotional response ( i could think of at least one way to save him , and the nasa clowns in this film are supposed to be \" smarter \" than i am ) . during the finale , when we are finally introduced to the translucent , conehead , kitty-faced aliens that we ostensibly sprung from , we are presented with some of the most ridiculously cartoonish cgi ever put to film ( just slightly worse than the plane crash at the end of air force one or the hell scenes in spawn ) . a brief history lesson about \" where we came from \" is proffered , then sinise is whisked away to be with \" the rest of our people \" ( he does this because his late wife proclaims in a video he watches early on that \" this is a chance to step foot where no one else has \" ) . >from the press i've been seeing this film receive , it is apparent that mission to mars will be dying a quick death at the theater . i'm sure the first weekend or two will be huge , but once word gets out people will stop going . let's just hope the upcoming red planet is better than this and isn't hurt by the negativity this film is generating . i'd venture to say it won't be worse than this waste of time . [pg] \n",
      "Label: neg\n",
      "\n"
     ]
    }
   ],
   "source": [
    "for split in [\"train\", \"validation\", \"test\"]:\n",
    "    print(f\"\\n🔹 Exemplos do conjunto {split.upper()}:\\n\")\n",
    "    for i in range(5):\n",
    "        print(f\"Texto: {dataset_final[split][i]['text']}\")\n",
    "        print(f\"Label: {dataset_final[split][i]['label']}\\n\")\n"
   ]
  },
  {
   "cell_type": "code",
   "execution_count": 5,
   "metadata": {},
   "outputs": [
    {
     "name": "stdout",
     "output_type": "stream",
     "text": [
      "{'neg', 'pos'}\n",
      "{'neg', 'pos'}\n",
      "{'neg', 'pos'}\n"
     ]
    }
   ],
   "source": [
    "# Exibir rótulos únicos antes da conversão\n",
    "print(set(dataset_final[\"train\"][\"label\"]))\n",
    "print(set(dataset_final[\"validation\"][\"label\"]))\n",
    "print(set(dataset_final[\"test\"][\"label\"]))\n"
   ]
  },
  {
   "cell_type": "code",
   "execution_count": 6,
   "metadata": {},
   "outputs": [
    {
     "data": {
      "application/vnd.jupyter.widget-view+json": {
       "model_id": "3d3fee3ed8a0486faa775a7e397bfcd8",
       "version_major": 2,
       "version_minor": 0
      },
      "text/plain": [
       "Map:   0%|          | 0/1400 [00:00<?, ? examples/s]"
      ]
     },
     "metadata": {},
     "output_type": "display_data"
    },
    {
     "data": {
      "application/vnd.jupyter.widget-view+json": {
       "model_id": "1cc370bcd5b84870880011170a4b0ab4",
       "version_major": 2,
       "version_minor": 0
      },
      "text/plain": [
       "Map:   0%|          | 0/200 [00:00<?, ? examples/s]"
      ]
     },
     "metadata": {},
     "output_type": "display_data"
    },
    {
     "data": {
      "application/vnd.jupyter.widget-view+json": {
       "model_id": "bbd7dad0b34b4c2bbd8c0817d3ca6582",
       "version_major": 2,
       "version_minor": 0
      },
      "text/plain": [
       "Map:   0%|          | 0/400 [00:00<?, ? examples/s]"
      ]
     },
     "metadata": {},
     "output_type": "display_data"
    }
   ],
   "source": [
    "def fix_labels(example):\n",
    "    label_map = {\"neg\": 0, \"pos\": 1}  # Mapeia os rótulos para números\n",
    "    example[\"label\"] = label_map.get(example[\"label\"], -1)  # Define -1 para valores desconhecidos\n",
    "    return example\n",
    "\n",
    "dataset_final = dataset_final.map(fix_labels)\n"
   ]
  },
  {
   "cell_type": "markdown",
   "metadata": {},
   "source": [
    "# Tokenizar os textos"
   ]
  },
  {
   "cell_type": "code",
   "execution_count": 7,
   "metadata": {},
   "outputs": [
    {
     "data": {
      "application/vnd.jupyter.widget-view+json": {
       "model_id": "b29845226a654727989315bdf729c90a",
       "version_major": 2,
       "version_minor": 0
      },
      "text/plain": [
       "Map:   0%|          | 0/1400 [00:00<?, ? examples/s]"
      ]
     },
     "metadata": {},
     "output_type": "display_data"
    },
    {
     "data": {
      "application/vnd.jupyter.widget-view+json": {
       "model_id": "a7164688cf0e497682fd7d94673f9671",
       "version_major": 2,
       "version_minor": 0
      },
      "text/plain": [
       "Map:   0%|          | 0/200 [00:00<?, ? examples/s]"
      ]
     },
     "metadata": {},
     "output_type": "display_data"
    },
    {
     "data": {
      "application/vnd.jupyter.widget-view+json": {
       "model_id": "131345f2e2e74e97b78910a2b7c84fa4",
       "version_major": 2,
       "version_minor": 0
      },
      "text/plain": [
       "Map:   0%|          | 0/400 [00:00<?, ? examples/s]"
      ]
     },
     "metadata": {},
     "output_type": "display_data"
    },
    {
     "name": "stdout",
     "output_type": "stream",
     "text": [
      "Tokens de um documento:\n",
      "['if', 'bea', '##vis', 'and', 'butt', '##head', 'had', 'a', 'favorite', 'movie', ',', 'from', 'dusk', 'till', 'dawn', 'would', 'probably', 'be', 'it', '.', 'scripted', 'by', 'quentin', 'tara', '##ntino', 'and', 'directed', 'by', 'robert', 'rodriguez', '(', 'des', '##per', '##ado', ')', ',', 'the', 'movie', 'pan', '##ders', 'to', 'the', 'very', 'worst', 'in', 'sex', 'and', 'violence', '-', '-', 'and', 'is', 'incredibly', 'fun', 'to', 'watch', '.', 'it', 'starts', 'off', 'as', 'a', 'pulp', 'fiction', '-', 'type', 'crime', 'story', ',', 'with', 'criminal', 'brothers', 'george', 'cl', '##oon', '##ey', 'and', 'tara', '##ntino', 'robb', '##ing', 'a', 'convenience', 'store', '.', 'because', 'this', 'is', 'a', 'tara', '##ntino', 'movie', ',', 'however', ',', 'it', \"'\", 's', 'not', 'just', 'a', 'case', 'of', 'pull', 'the', 'gun', 'and', 'take', 'the', 'lo', '##ot', ',', 'it', \"'\", 's', 'a', 'case', 'of', 'a', 'hole', 'being', 'shot', 'through', 'someone', \"'\", 's', 'hand', ',', 'a', 'man', 'on', 'fire', 'jumping', 'out', 'behind', 'the', 'counter', 'and', 'the', 'entire', 'store', 'blowing', 'up', 'as', 'they', 'drive', 'away', '.', 'the', 'opening', 'scene', 'sets', 'the', 'tone', 'for', 'the', 'rest', 'of', 'the', 'movie', '-', '-', 'everything', 'over', '##don', '##e', 'and', 'nothing', 'as', 'it', 'seems', '.', 'cl', '##oon', '##ey', 'and', 'tara', '##ntino', 'bring', 'a', 'hostage', 'to', 'the', 'motel', 'and', 'then', 'hi', '##jack', 'an', 'rv', 'with', 'a', 'family', 'in', 'it', '.', 'harvey', 'kei', '##tel', 'plays', 'the', 'backs', '##lid', '##den', 'ex', '-', 'preacher', 'and', 'juliette', 'lewis', 'his', 'daughter', ',', 'whom', 'registered', 'sex', '-', 'per', '##vert', 'tara', '##ntino', 'eyes', 'endless', '##ly', '.', 'you', 'know', 'you', \"'\", 're', 'mentally', 'un', '##balance', '##d', 'when', 'you', 'find', 'lewis', 'the', 'least', 'bit', 'attractive', ',', 'although', 'she', \"'\", 's', 'not', 'nearly', 'as', 'ob', '##no', '##xious', 'as', 'usual', 'in', 'from', 'dusk', 'till', 'dawn', '.', 'the', 'first', 'half', 'of', 'the', 'movie', 'has', 'the', 'criminals', 'and', 'hostages', 'trying', 'to', 'get', 'to', 'and', 'through', 'the', 'mexico', 'border', ',', 'cl', '##oon', '##ey', \"'\", 's', 'strategy', 'involving', 'hiding', 'in', 'the', 'rv', 'shower', 'while', 'lewis', 'is', 'on', 'the', 'toilet', '.', 'it', 'does', 'its', 'trick', ';', 'the', 'border', 'guard', 'takes', 'one', 'look', 'at', 'lewis', 're', '##lie', '##ving', 'herself', 'and', 'immediately', 'goes', 'blind', ',', 'never', 'noticing', 'cl', '##oon', '##ey', 'or', 'tara', '##ntino', '.', 'once', 'they', 'get', 'to', 'mexico', ',', 'it', \"'\", 's', 'time', 'to', 'wait', 'at', 'the', 'rendezvous', 'point', ',', 'a', 'top', '##less', 'bar', 'called', 'ti', '##tty', 'twist', '##er', 'where', 'we', \"'\", 're', 'once', 'again', 'reminded', 'tara', '##ntino', 'wrote', 'the', 'movie', 'as', 'he', 'drinks', 'champagne', 'off', 'the', 'foot', 'of', 'a', 'strip', '##per', '.', 'finally', ',', 'after', 'about', 'ten', 'minutes', 'of', 'inter', '##cut', 'boo', '##b', 'shots', 'and', 'cl', '##oon', '##ey', 'forcing', 'kei', '##tel', 'and', 'lewis', 'to', 'drink', 'with', 'him', ',', 'the', 'strip', '##per', 'turns', 'into', 'a', 'vampire', '.', 'soon', 'half', 'the', 'people', 'in', 'the', 'bar', 'are', 'vampires', 'and', 'the', 'other', 'half', 'fall', 'or', 'fight', 'back', '.', 'that', \"'\", 's', 'right', ',', 'we', \"'\", 've', 'come', 'all', 'this', 'way', 'to', 'see', 'a', 'vampire', 'movie', '.', 'but', 'like', 'everything', 'else', ',', 'tara', '##ntino', 'takes', 'this', 'age', '-', 'old', 'genre', 'and', 'twists', 'it', 'to', 'his', 'own', 'ends', 'to', 'produce', 'over', '-', 'the', '-', 'top', 'entertainment', '.', 'so', 'we', 'get', 'holy', 'water', 'condom', 'balloons', ',', 'heads', 'rolling', ',', 'quad', '##rup', '##le', 'imp', '##ale', '##ment', 'on', 'an', 'overturned', 'table', 'and', 'kei', '##tel', 'getting', 'bitten', 'by', 'a', 'vampire', 'and', 'announcing', 'he', 'only', 'has', 'a', 'few', 'minutes', 'left', 'before', 'he', 'becomes', '\"', 'a', 'lap', 'dog', 'of', 'satan', '.', '\"', 'the', 'from', 'dusk', 'till', 'dawn', 'dialogue', 'is', '100', '%', 'tara', '##ntino', ',', 'hovering', 'between', 'absurd', 'and', 'disgusting', '(', 'as', 'when', 'they', \"'\", 're', 'entering', 'the', 'nightclub', 'and', 'che', '##ech', 'marin', 'announces', 'the', 'main', 'attractions', 'of', 'the', 'ti', '##tty', 'twist', '##er', ')', ',', 'but', 'always', 'entertaining', ',', 'and', 'is', 'a', 'huge', 'reason', 'the', 'movie', 'is', 'so', 'much', 'fun', 'to', 'watch', 'instead', 'of', 'being', 'one', 'more', 'second', '-', 'rate', 'gore', '##fest', '.', 'cl', '##oon', '##ey', ',', 'kei', '##tel', 'and', 'especially', 'tara', '##ntino', 'are', 'so', 'over', '-', 'the', '-', 'top', 'with', 'their', 'delivery', 'that', 'the', 'dialogue', 'is', 'that', 'much', 'more', 'hilarious', ',', 'ensuring', 'not', 'one', 'second', 'of', 'from', 'dusk', 'till', 'dawn', 'is', 'taken', 'the', 'least', 'bit', 'seriously', '.', 'stuff', 'like', 'this', 'would', 'be', 'terrible', 'in', 'any', 'other', 'movie', ',', 'but', 'tara', '##ntino', 'and', 'rodriguez', 'know', 'exactly', 'what', 'to', 'do', 'to', 'entertain', 'people', ',', 'even', 'if', 'there', \"'\", 's', 'absolutely', 'no', 'message', 'or', 'meaning', 'to', 'from', 'dusk', 'till', 'dawn', '.', 'pulp', 'fiction', 'had', 'the', 'vulgar', '##ity', 'and', 'violence', 'for', 'a', 'reason', ',', 'but', 'this', 'movie', 'just', 'throws', 'it', 'out', 'for', 'cheap', 'entertainment', '.', 'from', 'dusk', 'till', 'dawn', 'isn', \"'\", 't', 'the', 'classic', 'of', 'modern', 'cinema', 'that', 'p', '##f', 'is', ',', 'but', 'is', 'does', 'prove', 'you', 'can', 'do', 'a', 'good', 'job', 'making', 'a', 'really', 'bad', 'movie', '.']\n"
     ]
    }
   ],
   "source": [
    "tokenizer = BertTokenizer.from_pretrained(\"bert-base-uncased\")\n",
    "\n",
    "# Função para tokenizar\n",
    "def tokenize_function(examples):\n",
    "    return tokenizer(\n",
    "        examples[\"text\"], \n",
    "        padding=True,  # Garante que todos os textos tenham o mesmo tamanho\n",
    "        truncation=True,  # Corta textos muito longos para evitar erro\n",
    "        max_length=512  # Define o tamanho máximo para os tokens\n",
    "    )\n",
    "\n",
    "# Aplicar a tokenização\n",
    "tokenized_datasets = dataset_final.map(tokenize_function, batched=True)\n",
    "\n",
    "# Visualizar tokens de um exemplo\n",
    "example_text = dataset_final[\"train\"][0][\"text\"]\n",
    "tokens = tokenizer.tokenize(example_text)\n",
    "print(\"Tokens de um documento:\")\n",
    "print(tokens)\n"
   ]
  },
  {
   "cell_type": "markdown",
   "metadata": {},
   "source": [
    "# Treinar o modelo BERT"
   ]
  },
  {
   "cell_type": "code",
   "execution_count": 8,
   "metadata": {},
   "outputs": [
    {
     "name": "stderr",
     "output_type": "stream",
     "text": [
      "Some weights of BertForSequenceClassification were not initialized from the model checkpoint at bert-base-uncased and are newly initialized: ['classifier.bias', 'classifier.weight']\n",
      "You should probably TRAIN this model on a down-stream task to be able to use it for predictions and inference.\n",
      "/home/fernando/anaconda3/lib/python3.12/site-packages/transformers/training_args.py:1575: FutureWarning: `evaluation_strategy` is deprecated and will be removed in version 4.46 of 🤗 Transformers. Use `eval_strategy` instead\n",
      "  warnings.warn(\n",
      "/tmp/ipykernel_495286/511587110.py:27: FutureWarning: `tokenizer` is deprecated and will be removed in version 5.0.0 for `Trainer.__init__`. Use `processing_class` instead.\n",
      "  trainer = Trainer(\n"
     ]
    },
    {
     "data": {
      "text/html": [
       "\n",
       "    <div>\n",
       "      \n",
       "      <progress value='525' max='525' style='width:300px; height:20px; vertical-align: middle;'></progress>\n",
       "      [525/525 08:24, Epoch 3/3]\n",
       "    </div>\n",
       "    <table border=\"1\" class=\"dataframe\">\n",
       "  <thead>\n",
       " <tr style=\"text-align: left;\">\n",
       "      <th>Epoch</th>\n",
       "      <th>Training Loss</th>\n",
       "      <th>Validation Loss</th>\n",
       "      <th>Accuracy</th>\n",
       "      <th>F1 Micro</th>\n",
       "      <th>F1 Macro</th>\n",
       "    </tr>\n",
       "  </thead>\n",
       "  <tbody>\n",
       "    <tr>\n",
       "      <td>1</td>\n",
       "      <td>No log</td>\n",
       "      <td>0.345659</td>\n",
       "      <td>0.860000</td>\n",
       "      <td>0.860000</td>\n",
       "      <td>0.859986</td>\n",
       "    </tr>\n",
       "    <tr>\n",
       "      <td>2</td>\n",
       "      <td>No log</td>\n",
       "      <td>0.335681</td>\n",
       "      <td>0.885000</td>\n",
       "      <td>0.885000</td>\n",
       "      <td>0.884928</td>\n",
       "    </tr>\n",
       "    <tr>\n",
       "      <td>3</td>\n",
       "      <td>0.326600</td>\n",
       "      <td>0.438128</td>\n",
       "      <td>0.905000</td>\n",
       "      <td>0.905000</td>\n",
       "      <td>0.904998</td>\n",
       "    </tr>\n",
       "  </tbody>\n",
       "</table><p>"
      ],
      "text/plain": [
       "<IPython.core.display.HTML object>"
      ]
     },
     "metadata": {},
     "output_type": "display_data"
    },
    {
     "data": {
      "text/plain": [
       "TrainOutput(global_step=525, training_loss=0.31547059013730006, metrics={'train_runtime': 506.8263, 'train_samples_per_second': 8.287, 'train_steps_per_second': 1.036, 'total_flos': 1105066432512000.0, 'train_loss': 0.31547059013730006, 'epoch': 3.0})"
      ]
     },
     "execution_count": 8,
     "metadata": {},
     "output_type": "execute_result"
    }
   ],
   "source": [
    "# Carregar modelo BERT pré-treinado para classificação binária\n",
    "model = BertForSequenceClassification.from_pretrained(\"bert-base-uncased\", num_labels=2)\n",
    "\n",
    "# Configurar os parâmetros de treinamento\n",
    "training_args = TrainingArguments(\n",
    "    output_dir=\"./results\",\n",
    "    evaluation_strategy=\"epoch\",\n",
    "    save_strategy=\"epoch\",\n",
    "    learning_rate=2e-5,\n",
    "    per_device_train_batch_size=8,\n",
    "    per_device_eval_batch_size=8,\n",
    "    num_train_epochs=3,\n",
    "    weight_decay=0.01,\n",
    "    logging_dir=\"./logs\"\n",
    ")\n",
    "\n",
    "# Função de avaliação com métricas\n",
    "def compute_metrics(eval_pred):\n",
    "    logits, labels = eval_pred\n",
    "    preds = np.argmax(logits, axis=1)\n",
    "    acc = accuracy_score(labels, preds)\n",
    "    f1_micro = f1_score(labels, preds, average=\"micro\")\n",
    "    f1_macro = f1_score(labels, preds, average=\"macro\")\n",
    "    return {\"accuracy\": acc, \"f1_micro\": f1_micro, \"f1_macro\": f1_macro}\n",
    "\n",
    "# Criar Trainer\n",
    "trainer = Trainer(\n",
    "    model=model,\n",
    "    args=training_args,\n",
    "    train_dataset=tokenized_datasets[\"train\"],\n",
    "    eval_dataset=tokenized_datasets[\"validation\"],\n",
    "    tokenizer=tokenizer,\n",
    "    compute_metrics=compute_metrics\n",
    ")\n",
    "\n",
    "# Iniciar o treinamento\n",
    "trainer.train()\n"
   ]
  },
  {
   "cell_type": "markdown",
   "metadata": {},
   "source": [
    "# Avaliação no conjunto de teste + Relatório Detalhado"
   ]
  },
  {
   "cell_type": "code",
   "execution_count": 9,
   "metadata": {},
   "outputs": [
    {
     "data": {
      "text/html": [],
      "text/plain": [
       "<IPython.core.display.HTML object>"
      ]
     },
     "metadata": {},
     "output_type": "display_data"
    },
    {
     "name": "stdout",
     "output_type": "stream",
     "text": [
      "Acurácia: 0.8825\n",
      "F1-score (Micro): 0.8825\n",
      "F1-score (Macro): 0.8825\n"
     ]
    },
    {
     "data": {
      "image/png": "[encoded data removed]",
      "text/plain": [
       "<Figure size 600x600 with 2 Axes>"
      ]
     },
     "metadata": {},
     "output_type": "display_data"
    },
    {
     "name": "stdout",
     "output_type": "stream",
     "text": [
      "Relatório de Classificação:\n",
      "\n",
      "              precision    recall  f1-score   support\n",
      "\n",
      "    Negativo       0.91      0.86      0.88       208\n",
      "    Positivo       0.86      0.91      0.88       192\n",
      "\n",
      "    accuracy                           0.88       400\n",
      "   macro avg       0.88      0.88      0.88       400\n",
      "weighted avg       0.88      0.88      0.88       400\n",
      "\n"
     ]
    }
   ],
   "source": [
    "# Fazer previsões\n",
    "predictions = trainer.predict(tokenized_datasets[\"test\"])\n",
    "preds = np.argmax(predictions.predictions, axis=1)\n",
    "labels = predictions.label_ids\n",
    "\n",
    "# Calcular métricas principais\n",
    "acc = accuracy_score(labels, preds)\n",
    "f1_micro = f1_score(labels, preds, average=\"micro\")\n",
    "f1_macro = f1_score(labels, preds, average=\"macro\")\n",
    "conf_matrix = confusion_matrix(labels, preds)\n",
    "\n",
    "# Exibir métricas principais\n",
    "print(f\"Acurácia: {acc:.4f}\")\n",
    "print(f\"F1-score (Micro): {f1_micro:.4f}\")\n",
    "print(f\"F1-score (Macro): {f1_macro:.4f}\")\n",
    "\n",
    "# Exibir matriz de confusão\n",
    "plt.figure(figsize=(6,6))\n",
    "sns.heatmap(conf_matrix, annot=True, fmt=\"d\", cmap=\"Blues\")\n",
    "plt.xlabel(\"Predito\")\n",
    "plt.ylabel(\"Real\")\n",
    "plt.title(\"Matriz de Confusão\")\n",
    "plt.show()\n",
    "\n",
    "# **Relatório detalhado das métricas**\n",
    "print(\"Relatório de Classificação:\\n\")\n",
    "print(classification_report(labels, preds, target_names=[\"Negativo\", \"Positivo\"]))\n"
   ]
  }
 ],
 "metadata": {
  "kernelspec": {
   "display_name": "base",
   "language": "python",
   "name": "python3"
  },
  "language_info": {
   "codemirror_mode": {
    "name": "ipython",
    "version": 3
   },
   "file_extension": ".py",
   "mimetype": "text/x-python",
   "name": "python",
   "nbconvert_exporter": "python",
   "pygments_lexer": "ipython3",
   "version": "3.12.7"
  }
 },
 "nbformat": 4,
 "nbformat_minor": 2
}
